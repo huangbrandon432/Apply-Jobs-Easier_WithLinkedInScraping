{
 "cells": [
  {
   "cell_type": "code",
   "execution_count": 1,
   "metadata": {},
   "outputs": [],
   "source": [
    "import sys\n",
    "from selenium import webdriver\n",
    "from webdriver_manager.chrome import ChromeDriverManager\n",
    "import time\n",
    "from bs4 import BeautifulSoup\n",
    "import re\n",
    "import pandas as pd\n",
    "import getpass\n",
    "\n",
    "from IPython.display import Markdown\n",
    "def printmd(string):\n",
    "    display(Markdown(string))\n",
    "\n",
    "pd.set_option('display.max_columns', 20) \n",
    "pd.set_option('display.max_rows', 1000)\n",
    "\n",
    "\n",
    "#install Chromedrivermanager\n",
    "#ChromeDriverManager().install()"
   ]
  },
  {
   "cell_type": "markdown",
   "metadata": {},
   "source": [
    "### Navigate to web page"
   ]
  },
  {
   "cell_type": "code",
   "execution_count": 719,
   "metadata": {},
   "outputs": [],
   "source": [
    "driver = webdriver.Chrome(executable_path='path of chromedriver')\n",
    "\n",
    "#Open login page\n",
    "driver.get('https://www.linkedin.com/login?fromSignIn=true&trk=guest_homepage-basic_nav-header-signin')\n",
    "\n",
    "# #Enter login info:\n",
    "elementID = driver.find_element_by_id('username')\n",
    "elementID.send_keys('bahuang23@gmail.com')\n",
    "\n",
    "elementID = driver.find_element_by_id('password')\n",
    "elementID.send_keys(getpass.getpass(\"Password: \"))\n",
    "#Note: replace the keys \"username\" and \"password\" with your LinkedIn login info\n",
    "\n",
    "elementID.submit()\n"
   ]
  },
  {
   "cell_type": "markdown",
   "metadata": {},
   "source": [
    "### Webpages"
   ]
  },
  {
   "cell_type": "code",
   "execution_count": 686,
   "metadata": {},
   "outputs": [],
   "source": [
    "DA_url_past_wk = 'https://www.linkedin.com/jobs/search/?f_E=2%2C3&f_TPR=r604800&geoId=90000070&keywords=data%20analyst&location=New%20York%20City%20Metropolitan%20Area'\n",
    "DA_url_past_mo = 'https://www.linkedin.com/jobs/search/?f_E=2%2C3&f_TPR=r2592000&geoId=90000070&keywords=data%20analyst&location=New%20York%20City%20Metropolitan%20Area'\n",
    "BA_url_past_mo = 'https://www.linkedin.com/jobs/search/?f_E=2%2C3&f_TPR=r2592000&geoId=90000070&keywords=business%20analyst&location=New%20York%20City%20Metropolitan%20Area'\n",
    "rec_jobs = 'https://www.linkedin.com/jobs/search/?currentJobId=2536632686&pivotType=jymbii'"
   ]
  },
  {
   "cell_type": "markdown",
   "metadata": {},
   "source": [
    "### Go to url"
   ]
  },
  {
   "cell_type": "code",
   "execution_count": 782,
   "metadata": {},
   "outputs": [],
   "source": [
    "driver.get(BA_url_past_mo)"
   ]
  },
  {
   "cell_type": "markdown",
   "metadata": {},
   "source": [
    "### Main script"
   ]
  },
  {
   "cell_type": "code",
   "execution_count": 783,
   "metadata": {},
   "outputs": [],
   "source": [
    "job_desc_details_list = []"
   ]
  },
  {
   "cell_type": "code",
   "execution_count": 784,
   "metadata": {},
   "outputs": [
    {
     "name": "stdout",
     "output_type": "stream",
     "text": [
      "# of listings after scrolling: 25\n",
      "# of listings after scrolling: 25\n",
      "# of listings after scrolling: 25\n"
     ]
    }
   ],
   "source": [
    "for page in range(2,5):    \n",
    "    \n",
    "    #Scrolling to load elements\n",
    "    for i in range(4):\n",
    "        driver.execute_script(\"window.document.getElementsByClassName('jobs-search-results')[0].scrollBy(0, document.getElementsByClassName('jobs-search-results')[0].scrollHeight/4)\") \n",
    "        time.sleep(0.5)\n",
    "\n",
    "    for _ in range(2):\n",
    "        for _ in range(2):\n",
    "            driver.execute_script(\"window.document.getElementsByClassName('jobs-search-results')[0].scrollBy(0, document.getElementsByClassName('jobs-search-results')[0].scrollHeight/4)\")\n",
    "            time.sleep(0.5)\n",
    "        for _ in range(2):\n",
    "            driver.execute_script(\"window.document.getElementsByClassName('jobs-search-results')[0].scrollBy(0, -document.getElementsByClassName('jobs-search-results')[0].scrollHeight/4)\")\n",
    "            time.sleep(0.5)\n",
    "\n",
    "    \n",
    "    #Get web source\n",
    "    html_source = driver.page_source\n",
    "    soup = BeautifulSoup(html_source, 'html.parser')\n",
    "    \n",
    "    #All jobs\n",
    "    tiles = soup.find_all('li', class_ = \"jobs-search-results__list-item occludable-update p0 relative ember-view\")\n",
    "\n",
    "    print(\"# of listings after scrolling:\", len(tiles))\n",
    "\n",
    "\n",
    "\n",
    "    \n",
    "    #Extracting\n",
    "    for i in tiles:\n",
    "        id = i.get('id')\n",
    "        driver.find_element_by_id(id).click()\n",
    "        time.sleep(0.5)\n",
    "        \n",
    "        \n",
    "\n",
    "        job_desc_details = []\n",
    "        \n",
    "        \n",
    "        #Job web source \n",
    "        html_source = driver.page_source\n",
    "\n",
    "        soup = BeautifulSoup(html_source, 'html.parser')\n",
    "        \n",
    "        \n",
    "        #Company name\n",
    "        try:\n",
    "            company_name = soup.find(\"a\", class_=\"jobs-details-top-card__company-url t-black--light t-normal ember-view\").getText().strip()\n",
    "        except:\n",
    "            if soup.find(\"div\", class_=\"job-card-container__company-name\"):\n",
    "                company_name = soup.find(\"div\", class_=\"job-card-container__company-name\").getText().strip()\n",
    "            elif not soup.find(\"div\", class_=\"job-card-container__company-name\"):\n",
    "                company_name = 'No company name'\n",
    "\n",
    "\n",
    "        job_desc_details.append(company_name)\n",
    "        \n",
    "        \n",
    "        #Title\n",
    "        job_title = soup.find(\"h2\", class_=\"jobs-details-top-card__job-title t-20 t-black t-normal\").getText().strip()\n",
    "        job_desc_details.append(job_title)\n",
    "        \n",
    "        \n",
    "        #Location\n",
    "        try: \n",
    "            location = soup.find(\"a\", class_=\"jobs-details-top-card__exact-location t-black--light link-without-visited-state\").getText().strip()\n",
    "        except:\n",
    "            location = soup.find(\"span\", class_=\"jobs-details-top-card__bullet\").getText().strip()\n",
    "\n",
    "        job_desc_details.append(location)\n",
    "        \n",
    "        \n",
    "        #Views, Posted date\n",
    "        views_list = [i for i in soup.find_all('p', class_=\"t-12 t-black--light mt2 mb0\")[0].stripped_strings]\n",
    "        if views_list[0] == 'New':\n",
    "            views = views_list[4]\n",
    "            posted_date = views_list[2]\n",
    "        else:\n",
    "            try:\n",
    "                views = views_list[3]\n",
    "                posted_date = views_list[1]\n",
    "            except:\n",
    "                views = \"Couldn't get views\"\n",
    "                posted_date = views_list[1]\n",
    "\n",
    "        job_desc_details.append(views)\n",
    "        job_desc_details.append(posted_date)\n",
    "\n",
    "        \n",
    "        \n",
    "        #Applicants, Level, Company size, Industry\n",
    "        job_details_short = soup.find_all(\"span\", class_=\"jobs-details-job-summary__text--ellipsis\")\n",
    "        \n",
    "        applicants_no = job_details_short[0].getText().strip()\n",
    "        level = job_details_short[1].getText().strip()\n",
    "        try:\n",
    "            company_size = job_details_short[2].getText().strip()\n",
    "            industry = job_details_short[3].getText().strip()\n",
    "        except:\n",
    "            company_size = 'Company page not claimed'\n",
    "            industry = 'NA'\n",
    "        \n",
    "        \n",
    "        \n",
    "        job_desc_details.extend([applicants_no, level, company_size, industry])\n",
    "        \n",
    "        \n",
    "        #Connections\n",
    "        \n",
    "        connections_element = soup.find_all(\"li\", class_=\"artdeco-list__item jobs-details-job-summary__section\")[1].find_all(\"div\", class_=\"job-flavors__label t-12 t-black--light t-normal\")\n",
    "        no_connections_element = soup.find_all(\"div\", class_=\"mb1\")\n",
    "        \n",
    "        if connections_element:\n",
    "            connections = []\n",
    "            for i in connections_element:\n",
    "                connections.append(i.getText().strip())\n",
    "            job_desc_details.append(connections)\n",
    "        else:\n",
    "            job_desc_details.append(no_connections_element[0].getText().strip())\n",
    "        \n",
    "        \n",
    "        #JD\n",
    "        job_description = soup.find(\"div\", class_=\"jobs-box__html-content jobs-description-content__text t-14 t-normal\").getText().strip()\n",
    "\n",
    "        job_desc_details.append(job_description)\n",
    "        \n",
    "        \n",
    "        #URL\n",
    "        job_desc_details.append(driver.current_url)\n",
    "        \n",
    "        \n",
    "        #Adding all job info to list\n",
    "        job_desc_details_list.append(job_desc_details)\n",
    "    \n",
    "    \n",
    "    #Click next job\n",
    "    driver.find_element_by_xpath(f\"//ul[@class='artdeco-pagination__pages artdeco-pagination__pages--number']/li[@data-test-pagination-page-btn = '{page}']\").click()\n",
    "    time.sleep(2)\n"
   ]
  },
  {
   "cell_type": "markdown",
   "metadata": {},
   "source": [
    "### Putting jobs info into dataframe"
   ]
  },
  {
   "cell_type": "code",
   "execution_count": 800,
   "metadata": {},
   "outputs": [],
   "source": [
    "job_desc_details_list_df = pd.DataFrame(job_desc_details_list, columns = ['Company Name', 'Job Title', 'Location', 'Views', 'Posted_date', '# of applicants', 'Level', 'Company size', 'Industry', \n",
    "                                                                          'Connections', 'Job Description', 'url'])"
   ]
  },
  {
   "cell_type": "code",
   "execution_count": 812,
   "metadata": {},
   "outputs": [
    {
     "data": {
      "text/html": [
       "<div>\n",
       "<style scoped>\n",
       "    .dataframe tbody tr th:only-of-type {\n",
       "        vertical-align: middle;\n",
       "    }\n",
       "\n",
       "    .dataframe tbody tr th {\n",
       "        vertical-align: top;\n",
       "    }\n",
       "\n",
       "    .dataframe thead th {\n",
       "        text-align: right;\n",
       "    }\n",
       "</style>\n",
       "<table border=\"1\" class=\"dataframe\">\n",
       "  <thead>\n",
       "    <tr style=\"text-align: right;\">\n",
       "      <th></th>\n",
       "      <th>Company Name</th>\n",
       "      <th>Job Title</th>\n",
       "      <th>Location</th>\n",
       "      <th>Views</th>\n",
       "      <th>Posted_date</th>\n",
       "      <th># of applicants</th>\n",
       "      <th>Level</th>\n",
       "      <th>Company size</th>\n",
       "      <th>Industry</th>\n",
       "      <th>Connections</th>\n",
       "      <th>Job Description</th>\n",
       "      <th>url</th>\n",
       "    </tr>\n",
       "  </thead>\n",
       "  <tbody>\n",
       "    <tr>\n",
       "      <th>0</th>\n",
       "      <td>Greenlots</td>\n",
       "      <td>Business Development Analyst - East Coast</td>\n",
       "      <td>New York, NY</td>\n",
       "      <td>115 views</td>\n",
       "      <td>Posted 3 weeks ago</td>\n",
       "      <td>12 applicants</td>\n",
       "      <td>Associate</td>\n",
       "      <td>51-200 employees</td>\n",
       "      <td>Automotive</td>\n",
       "      <td>You have 0 connections at this company.</td>\n",
       "      <td>Business Development Analyst – East Coast\\n\\nJ...</td>\n",
       "      <td>https://www.linkedin.com/jobs/search/?currentJ...</td>\n",
       "    </tr>\n",
       "    <tr>\n",
       "      <th>1</th>\n",
       "      <td>Ross Stores, Inc.</td>\n",
       "      <td>Business Analyst, Business Information</td>\n",
       "      <td>New York, NY</td>\n",
       "      <td>1,332 views</td>\n",
       "      <td>Posted 3 weeks ago</td>\n",
       "      <td>600 applicants</td>\n",
       "      <td>Associate</td>\n",
       "      <td>10001+ employees</td>\n",
       "      <td>Retail</td>\n",
       "      <td>[2 alumni]</td>\n",
       "      <td>Posted by\\n    \\n\\n\\n\\n\\n\\n\\n\\n\\n            D...</td>\n",
       "      <td>https://www.linkedin.com/jobs/search/?currentJ...</td>\n",
       "    </tr>\n",
       "    <tr>\n",
       "      <th>2</th>\n",
       "      <td>TEKsystems</td>\n",
       "      <td>Business Systems Analyst</td>\n",
       "      <td>New York, NY</td>\n",
       "      <td>33 views</td>\n",
       "      <td>Posted 1 week ago</td>\n",
       "      <td>5 applicants</td>\n",
       "      <td>Associate</td>\n",
       "      <td>1,001-5,000 employees</td>\n",
       "      <td>Information Technology &amp; Services</td>\n",
       "      <td>[8 alumni]</td>\n",
       "      <td>Summary\\n\\nThe main function of a GBS business...</td>\n",
       "      <td>https://www.linkedin.com/jobs/search/?currentJ...</td>\n",
       "    </tr>\n",
       "    <tr>\n",
       "      <th>3</th>\n",
       "      <td>WeWork</td>\n",
       "      <td>Associate, Data Analyst</td>\n",
       "      <td>New York, NY</td>\n",
       "      <td>597 views</td>\n",
       "      <td>Posted 14 hours ago</td>\n",
       "      <td>171 applicants</td>\n",
       "      <td>Associate</td>\n",
       "      <td>5,001-10,000 employees</td>\n",
       "      <td>Real Estate</td>\n",
       "      <td>[11 alumni]</td>\n",
       "      <td>WeWork Mission\\n\\nWeWork is the platform for c...</td>\n",
       "      <td>https://www.linkedin.com/jobs/search/?currentJ...</td>\n",
       "    </tr>\n",
       "    <tr>\n",
       "      <th>4</th>\n",
       "      <td>Peloton Interactive</td>\n",
       "      <td>Data/Reporting Analyst, IT Service Design</td>\n",
       "      <td>New York, NY</td>\n",
       "      <td>275 views</td>\n",
       "      <td>Posted 1 day ago</td>\n",
       "      <td>45 applicants</td>\n",
       "      <td>Associate</td>\n",
       "      <td>1,001-5,000 employees</td>\n",
       "      <td>Health, Wellness &amp; Fitness</td>\n",
       "      <td>[3 company alumni, 19 alumni]</td>\n",
       "      <td>Peloton’s IT organization is seeking an experi...</td>\n",
       "      <td>https://www.linkedin.com/jobs/search/?currentJ...</td>\n",
       "    </tr>\n",
       "    <tr>\n",
       "      <th>5</th>\n",
       "      <td>Etsy</td>\n",
       "      <td>Business Development Analyst</td>\n",
       "      <td>Brooklyn, NY</td>\n",
       "      <td>266 views</td>\n",
       "      <td>Posted 1 week ago</td>\n",
       "      <td>46 applicants</td>\n",
       "      <td>Associate</td>\n",
       "      <td>1,001-5,000 employees</td>\n",
       "      <td>Internet</td>\n",
       "      <td>[1 connection, 2 company alumni]</td>\n",
       "      <td>Company Description\\n\\nEtsy is the global mark...</td>\n",
       "      <td>https://www.linkedin.com/jobs/search/?currentJ...</td>\n",
       "    </tr>\n",
       "    <tr>\n",
       "      <th>6</th>\n",
       "      <td>Feather</td>\n",
       "      <td>Business Intelligence Analyst</td>\n",
       "      <td>New York, NY</td>\n",
       "      <td>326 views</td>\n",
       "      <td>Posted 2 weeks ago</td>\n",
       "      <td>83 applicants</td>\n",
       "      <td>Associate</td>\n",
       "      <td>51-200 employees</td>\n",
       "      <td>Furniture</td>\n",
       "      <td>You have 0 connections at this company.</td>\n",
       "      <td>At Feather, our mission is to transform people...</td>\n",
       "      <td>https://www.linkedin.com/jobs/search/?currentJ...</td>\n",
       "    </tr>\n",
       "    <tr>\n",
       "      <th>7</th>\n",
       "      <td>Glossier, Inc.</td>\n",
       "      <td>Program Analyst</td>\n",
       "      <td>New York, NY</td>\n",
       "      <td>457 views</td>\n",
       "      <td>Posted 4 days ago</td>\n",
       "      <td>26 applicants</td>\n",
       "      <td>Associate</td>\n",
       "      <td>201-500 employees</td>\n",
       "      <td>Consumer Goods</td>\n",
       "      <td>[1 alum]</td>\n",
       "      <td>Overview\\n\\nThe Programs Business Analyst II w...</td>\n",
       "      <td>https://www.linkedin.com/jobs/search/?currentJ...</td>\n",
       "    </tr>\n",
       "    <tr>\n",
       "      <th>8</th>\n",
       "      <td>Nomura</td>\n",
       "      <td>Data Management Analyst</td>\n",
       "      <td>New York City Metropolitan Area</td>\n",
       "      <td>517 views</td>\n",
       "      <td>Posted 1 day ago</td>\n",
       "      <td>239 applicants</td>\n",
       "      <td>Associate</td>\n",
       "      <td>10001+ employees</td>\n",
       "      <td>Financial Services</td>\n",
       "      <td>[1 connection, 19 alumni]</td>\n",
       "      <td>Company overview\\nNomura is an Asia-based fina...</td>\n",
       "      <td>https://www.linkedin.com/jobs/search/?currentJ...</td>\n",
       "    </tr>\n",
       "    <tr>\n",
       "      <th>9</th>\n",
       "      <td>WebMD</td>\n",
       "      <td>Associate Business/Data Analyst</td>\n",
       "      <td>New York, NY</td>\n",
       "      <td>449 views</td>\n",
       "      <td>Posted 2 weeks ago</td>\n",
       "      <td>108 applicants</td>\n",
       "      <td>Associate</td>\n",
       "      <td>1,001-5,000 employees</td>\n",
       "      <td>Internet</td>\n",
       "      <td>[4 alumni]</td>\n",
       "      <td>Jobson Healthcare Information (JHI) is a premi...</td>\n",
       "      <td>https://www.linkedin.com/jobs/search/?currentJ...</td>\n",
       "    </tr>\n",
       "  </tbody>\n",
       "</table>\n",
       "</div>"
      ],
      "text/plain": [
       "          Company Name                                  Job Title  \\\n",
       "0            Greenlots  Business Development Analyst - East Coast   \n",
       "1    Ross Stores, Inc.     Business Analyst, Business Information   \n",
       "2           TEKsystems                   Business Systems Analyst   \n",
       "3               WeWork                    Associate, Data Analyst   \n",
       "4  Peloton Interactive  Data/Reporting Analyst, IT Service Design   \n",
       "5                 Etsy               Business Development Analyst   \n",
       "6              Feather              Business Intelligence Analyst   \n",
       "7       Glossier, Inc.                            Program Analyst   \n",
       "8               Nomura                    Data Management Analyst   \n",
       "9                WebMD            Associate Business/Data Analyst   \n",
       "\n",
       "                          Location        Views          Posted_date  \\\n",
       "0                     New York, NY    115 views   Posted 3 weeks ago   \n",
       "1                     New York, NY  1,332 views   Posted 3 weeks ago   \n",
       "2                     New York, NY     33 views    Posted 1 week ago   \n",
       "3                     New York, NY    597 views  Posted 14 hours ago   \n",
       "4                     New York, NY    275 views     Posted 1 day ago   \n",
       "5                     Brooklyn, NY    266 views    Posted 1 week ago   \n",
       "6                     New York, NY    326 views   Posted 2 weeks ago   \n",
       "7                     New York, NY    457 views    Posted 4 days ago   \n",
       "8  New York City Metropolitan Area    517 views     Posted 1 day ago   \n",
       "9                     New York, NY    449 views   Posted 2 weeks ago   \n",
       "\n",
       "  # of applicants      Level            Company size  \\\n",
       "0   12 applicants  Associate        51-200 employees   \n",
       "1  600 applicants  Associate        10001+ employees   \n",
       "2    5 applicants  Associate   1,001-5,000 employees   \n",
       "3  171 applicants  Associate  5,001-10,000 employees   \n",
       "4   45 applicants  Associate   1,001-5,000 employees   \n",
       "5   46 applicants  Associate   1,001-5,000 employees   \n",
       "6   83 applicants  Associate        51-200 employees   \n",
       "7   26 applicants  Associate       201-500 employees   \n",
       "8  239 applicants  Associate        10001+ employees   \n",
       "9  108 applicants  Associate   1,001-5,000 employees   \n",
       "\n",
       "                            Industry                              Connections  \\\n",
       "0                         Automotive  You have 0 connections at this company.   \n",
       "1                             Retail                               [2 alumni]   \n",
       "2  Information Technology & Services                               [8 alumni]   \n",
       "3                        Real Estate                              [11 alumni]   \n",
       "4         Health, Wellness & Fitness            [3 company alumni, 19 alumni]   \n",
       "5                           Internet         [1 connection, 2 company alumni]   \n",
       "6                          Furniture  You have 0 connections at this company.   \n",
       "7                     Consumer Goods                                 [1 alum]   \n",
       "8                 Financial Services                [1 connection, 19 alumni]   \n",
       "9                           Internet                               [4 alumni]   \n",
       "\n",
       "                                     Job Description  \\\n",
       "0  Business Development Analyst – East Coast\\n\\nJ...   \n",
       "1  Posted by\\n    \\n\\n\\n\\n\\n\\n\\n\\n\\n            D...   \n",
       "2  Summary\\n\\nThe main function of a GBS business...   \n",
       "3  WeWork Mission\\n\\nWeWork is the platform for c...   \n",
       "4  Peloton’s IT organization is seeking an experi...   \n",
       "5  Company Description\\n\\nEtsy is the global mark...   \n",
       "6  At Feather, our mission is to transform people...   \n",
       "7  Overview\\n\\nThe Programs Business Analyst II w...   \n",
       "8  Company overview\\nNomura is an Asia-based fina...   \n",
       "9  Jobson Healthcare Information (JHI) is a premi...   \n",
       "\n",
       "                                                 url  \n",
       "0  https://www.linkedin.com/jobs/search/?currentJ...  \n",
       "1  https://www.linkedin.com/jobs/search/?currentJ...  \n",
       "2  https://www.linkedin.com/jobs/search/?currentJ...  \n",
       "3  https://www.linkedin.com/jobs/search/?currentJ...  \n",
       "4  https://www.linkedin.com/jobs/search/?currentJ...  \n",
       "5  https://www.linkedin.com/jobs/search/?currentJ...  \n",
       "6  https://www.linkedin.com/jobs/search/?currentJ...  \n",
       "7  https://www.linkedin.com/jobs/search/?currentJ...  \n",
       "8  https://www.linkedin.com/jobs/search/?currentJ...  \n",
       "9  https://www.linkedin.com/jobs/search/?currentJ...  "
      ]
     },
     "execution_count": 812,
     "metadata": {},
     "output_type": "execute_result"
    }
   ],
   "source": [
    "job_desc_details_list_df.head(10)"
   ]
  },
  {
   "cell_type": "markdown",
   "metadata": {},
   "source": [
    "### Filter jobs"
   ]
  },
  {
   "cell_type": "code",
   "execution_count": 805,
   "metadata": {},
   "outputs": [],
   "source": [
    "#Specify words to remove\n",
    "words_to_remove = ['4+ years', '5+ years', '5 years', '6 years', '10+ years', '10 years', '6+ years', 'Five or more years', 'Six or more years', 'Three or more years', 'four or more years',\n",
    "                'Five plus years', 'five or more years', 'six or more years', 'Four or more years']\n",
    "\n",
    "\n",
    "consider_indexes = []\n",
    "\n",
    "for i in range(len(job_desc_details_list_df)):\n",
    "    jd = job_desc_details_list_df.loc[i, 'Job Description']\n",
    "    if any(x in jd for x in words_to_remove):\n",
    "        consider_indexes.append(i)\n",
    "        \n",
    "consider_jobs = job_desc_details_list_df[~job_desc_details_list_df.index.isin(consider_indexes)]"
   ]
  },
  {
   "cell_type": "code",
   "execution_count": 813,
   "metadata": {},
   "outputs": [
    {
     "data": {
      "text/html": [
       "<div>\n",
       "<style scoped>\n",
       "    .dataframe tbody tr th:only-of-type {\n",
       "        vertical-align: middle;\n",
       "    }\n",
       "\n",
       "    .dataframe tbody tr th {\n",
       "        vertical-align: top;\n",
       "    }\n",
       "\n",
       "    .dataframe thead th {\n",
       "        text-align: right;\n",
       "    }\n",
       "</style>\n",
       "<table border=\"1\" class=\"dataframe\">\n",
       "  <thead>\n",
       "    <tr style=\"text-align: right;\">\n",
       "      <th></th>\n",
       "      <th>Company Name</th>\n",
       "      <th>Job Title</th>\n",
       "      <th>Location</th>\n",
       "      <th>Views</th>\n",
       "      <th>Posted_date</th>\n",
       "      <th># of applicants</th>\n",
       "      <th>Level</th>\n",
       "      <th>Company size</th>\n",
       "      <th>Industry</th>\n",
       "      <th>Connections</th>\n",
       "      <th>Job Description</th>\n",
       "      <th>url</th>\n",
       "    </tr>\n",
       "  </thead>\n",
       "  <tbody>\n",
       "    <tr>\n",
       "      <th>2</th>\n",
       "      <td>TEKsystems</td>\n",
       "      <td>Business Systems Analyst</td>\n",
       "      <td>New York, NY</td>\n",
       "      <td>33 views</td>\n",
       "      <td>Posted 1 week ago</td>\n",
       "      <td>5 applicants</td>\n",
       "      <td>Associate</td>\n",
       "      <td>1,001-5,000 employees</td>\n",
       "      <td>Information Technology &amp; Services</td>\n",
       "      <td>[8 alumni]</td>\n",
       "      <td>Summary\\n\\nThe main function of a GBS business...</td>\n",
       "      <td>https://www.linkedin.com/jobs/search/?currentJ...</td>\n",
       "    </tr>\n",
       "    <tr>\n",
       "      <th>6</th>\n",
       "      <td>Feather</td>\n",
       "      <td>Business Intelligence Analyst</td>\n",
       "      <td>New York, NY</td>\n",
       "      <td>326 views</td>\n",
       "      <td>Posted 2 weeks ago</td>\n",
       "      <td>83 applicants</td>\n",
       "      <td>Associate</td>\n",
       "      <td>51-200 employees</td>\n",
       "      <td>Furniture</td>\n",
       "      <td>You have 0 connections at this company.</td>\n",
       "      <td>At Feather, our mission is to transform people...</td>\n",
       "      <td>https://www.linkedin.com/jobs/search/?currentJ...</td>\n",
       "    </tr>\n",
       "    <tr>\n",
       "      <th>9</th>\n",
       "      <td>WebMD</td>\n",
       "      <td>Associate Business/Data Analyst</td>\n",
       "      <td>New York, NY</td>\n",
       "      <td>449 views</td>\n",
       "      <td>Posted 2 weeks ago</td>\n",
       "      <td>108 applicants</td>\n",
       "      <td>Associate</td>\n",
       "      <td>1,001-5,000 employees</td>\n",
       "      <td>Internet</td>\n",
       "      <td>[4 alumni]</td>\n",
       "      <td>Jobson Healthcare Information (JHI) is a premi...</td>\n",
       "      <td>https://www.linkedin.com/jobs/search/?currentJ...</td>\n",
       "    </tr>\n",
       "    <tr>\n",
       "      <th>10</th>\n",
       "      <td>Kaia Health</td>\n",
       "      <td>Data Analyst, Business</td>\n",
       "      <td>New York, NY</td>\n",
       "      <td>264 views</td>\n",
       "      <td>Posted 1 week ago</td>\n",
       "      <td>37 applicants</td>\n",
       "      <td>Associate</td>\n",
       "      <td>51-200 employees</td>\n",
       "      <td>Computer Software</td>\n",
       "      <td>You have 0 connections at this company.</td>\n",
       "      <td>Kaia is a mission-focused health technology co...</td>\n",
       "      <td>https://www.linkedin.com/jobs/search/?currentJ...</td>\n",
       "    </tr>\n",
       "    <tr>\n",
       "      <th>11</th>\n",
       "      <td>Enfusion</td>\n",
       "      <td>Strategy Business Analyst</td>\n",
       "      <td>New York, NY</td>\n",
       "      <td>362 views</td>\n",
       "      <td>Posted 3 weeks ago</td>\n",
       "      <td>143 applicants</td>\n",
       "      <td>Associate</td>\n",
       "      <td>501-1,000 employees</td>\n",
       "      <td>Financial Services</td>\n",
       "      <td>[3 alumni]</td>\n",
       "      <td>Enfusion is a pioneer in developing innovative...</td>\n",
       "      <td>https://www.linkedin.com/jobs/search/?currentJ...</td>\n",
       "    </tr>\n",
       "    <tr>\n",
       "      <th>12</th>\n",
       "      <td>Healthfirst</td>\n",
       "      <td>Business Data Analyst</td>\n",
       "      <td>New York, NY</td>\n",
       "      <td>61 views</td>\n",
       "      <td>Posted 4 weeks ago</td>\n",
       "      <td>6 applicants</td>\n",
       "      <td>Associate</td>\n",
       "      <td>1,001-5,000 employees</td>\n",
       "      <td>Hospital &amp; Health Care</td>\n",
       "      <td>[2 alumni]</td>\n",
       "      <td>The Business Data Analyst (BDA) is responsible...</td>\n",
       "      <td>https://www.linkedin.com/jobs/search/?currentJ...</td>\n",
       "    </tr>\n",
       "    <tr>\n",
       "      <th>13</th>\n",
       "      <td>Expert Institute</td>\n",
       "      <td>Business Analyst</td>\n",
       "      <td>New York, NY</td>\n",
       "      <td>525 views</td>\n",
       "      <td>Posted 2 weeks ago</td>\n",
       "      <td>233 applicants</td>\n",
       "      <td>Associate</td>\n",
       "      <td>51-200 employees</td>\n",
       "      <td>Information Technology &amp; Services</td>\n",
       "      <td>You have 0 connections at this company.</td>\n",
       "      <td>ABOUT US:At Expert Institute, we’re building t...</td>\n",
       "      <td>https://www.linkedin.com/jobs/search/?currentJ...</td>\n",
       "    </tr>\n",
       "    <tr>\n",
       "      <th>14</th>\n",
       "      <td>Wiley</td>\n",
       "      <td>Business Analyst</td>\n",
       "      <td>Hoboken, NJ</td>\n",
       "      <td>74 views</td>\n",
       "      <td>Posted 1 week ago</td>\n",
       "      <td>11 applicants</td>\n",
       "      <td>Associate</td>\n",
       "      <td>1,001-5,000 employees</td>\n",
       "      <td>Publishing</td>\n",
       "      <td>[5 alumni]</td>\n",
       "      <td>At Wiley, we welcome you for who you are, the ...</td>\n",
       "      <td>https://www.linkedin.com/jobs/search/?currentJ...</td>\n",
       "    </tr>\n",
       "    <tr>\n",
       "      <th>18</th>\n",
       "      <td>Industrious</td>\n",
       "      <td>Business Analyst</td>\n",
       "      <td>New York, NY</td>\n",
       "      <td>1,073 views</td>\n",
       "      <td>Posted 4 days ago</td>\n",
       "      <td>151 applicants</td>\n",
       "      <td>Associate</td>\n",
       "      <td>201-500 employees</td>\n",
       "      <td>Hospitality</td>\n",
       "      <td>[2 alumni]</td>\n",
       "      <td>About The Company\\n\\nIndustrious’ private offi...</td>\n",
       "      <td>https://www.linkedin.com/jobs/search/?currentJ...</td>\n",
       "    </tr>\n",
       "    <tr>\n",
       "      <th>20</th>\n",
       "      <td>Sony Electronics</td>\n",
       "      <td>Associate Data Analyst</td>\n",
       "      <td>Paramus, NJ</td>\n",
       "      <td>189 views</td>\n",
       "      <td>Posted 4 weeks ago</td>\n",
       "      <td>37 applicants</td>\n",
       "      <td>Associate</td>\n",
       "      <td>10001+ employees</td>\n",
       "      <td>Consumer Electronics</td>\n",
       "      <td>[4 alumni]</td>\n",
       "      <td>Sony Electronics, Inc. look for the risk-taker...</td>\n",
       "      <td>https://www.linkedin.com/jobs/search/?currentJ...</td>\n",
       "    </tr>\n",
       "  </tbody>\n",
       "</table>\n",
       "</div>"
      ],
      "text/plain": [
       "        Company Name                        Job Title      Location  \\\n",
       "2         TEKsystems         Business Systems Analyst  New York, NY   \n",
       "6            Feather    Business Intelligence Analyst  New York, NY   \n",
       "9              WebMD  Associate Business/Data Analyst  New York, NY   \n",
       "10       Kaia Health           Data Analyst, Business  New York, NY   \n",
       "11          Enfusion        Strategy Business Analyst  New York, NY   \n",
       "12       Healthfirst            Business Data Analyst  New York, NY   \n",
       "13  Expert Institute                 Business Analyst  New York, NY   \n",
       "14             Wiley                 Business Analyst   Hoboken, NJ   \n",
       "18       Industrious                 Business Analyst  New York, NY   \n",
       "20  Sony Electronics           Associate Data Analyst   Paramus, NJ   \n",
       "\n",
       "          Views         Posted_date # of applicants      Level  \\\n",
       "2      33 views   Posted 1 week ago    5 applicants  Associate   \n",
       "6     326 views  Posted 2 weeks ago   83 applicants  Associate   \n",
       "9     449 views  Posted 2 weeks ago  108 applicants  Associate   \n",
       "10    264 views   Posted 1 week ago   37 applicants  Associate   \n",
       "11    362 views  Posted 3 weeks ago  143 applicants  Associate   \n",
       "12     61 views  Posted 4 weeks ago    6 applicants  Associate   \n",
       "13    525 views  Posted 2 weeks ago  233 applicants  Associate   \n",
       "14     74 views   Posted 1 week ago   11 applicants  Associate   \n",
       "18  1,073 views   Posted 4 days ago  151 applicants  Associate   \n",
       "20    189 views  Posted 4 weeks ago   37 applicants  Associate   \n",
       "\n",
       "             Company size                           Industry  \\\n",
       "2   1,001-5,000 employees  Information Technology & Services   \n",
       "6        51-200 employees                          Furniture   \n",
       "9   1,001-5,000 employees                           Internet   \n",
       "10       51-200 employees                  Computer Software   \n",
       "11    501-1,000 employees                 Financial Services   \n",
       "12  1,001-5,000 employees             Hospital & Health Care   \n",
       "13       51-200 employees  Information Technology & Services   \n",
       "14  1,001-5,000 employees                         Publishing   \n",
       "18      201-500 employees                        Hospitality   \n",
       "20       10001+ employees               Consumer Electronics   \n",
       "\n",
       "                                Connections  \\\n",
       "2                                [8 alumni]   \n",
       "6   You have 0 connections at this company.   \n",
       "9                                [4 alumni]   \n",
       "10  You have 0 connections at this company.   \n",
       "11                               [3 alumni]   \n",
       "12                               [2 alumni]   \n",
       "13  You have 0 connections at this company.   \n",
       "14                               [5 alumni]   \n",
       "18                               [2 alumni]   \n",
       "20                               [4 alumni]   \n",
       "\n",
       "                                      Job Description  \\\n",
       "2   Summary\\n\\nThe main function of a GBS business...   \n",
       "6   At Feather, our mission is to transform people...   \n",
       "9   Jobson Healthcare Information (JHI) is a premi...   \n",
       "10  Kaia is a mission-focused health technology co...   \n",
       "11  Enfusion is a pioneer in developing innovative...   \n",
       "12  The Business Data Analyst (BDA) is responsible...   \n",
       "13  ABOUT US:At Expert Institute, we’re building t...   \n",
       "14  At Wiley, we welcome you for who you are, the ...   \n",
       "18  About The Company\\n\\nIndustrious’ private offi...   \n",
       "20  Sony Electronics, Inc. look for the risk-taker...   \n",
       "\n",
       "                                                  url  \n",
       "2   https://www.linkedin.com/jobs/search/?currentJ...  \n",
       "6   https://www.linkedin.com/jobs/search/?currentJ...  \n",
       "9   https://www.linkedin.com/jobs/search/?currentJ...  \n",
       "10  https://www.linkedin.com/jobs/search/?currentJ...  \n",
       "11  https://www.linkedin.com/jobs/search/?currentJ...  \n",
       "12  https://www.linkedin.com/jobs/search/?currentJ...  \n",
       "13  https://www.linkedin.com/jobs/search/?currentJ...  \n",
       "14  https://www.linkedin.com/jobs/search/?currentJ...  \n",
       "18  https://www.linkedin.com/jobs/search/?currentJ...  \n",
       "20  https://www.linkedin.com/jobs/search/?currentJ...  "
      ]
     },
     "execution_count": 813,
     "metadata": {},
     "output_type": "execute_result"
    }
   ],
   "source": [
    "#Filtered\n",
    "consider_jobs.head(10)"
   ]
  },
  {
   "cell_type": "code",
   "execution_count": 814,
   "metadata": {},
   "outputs": [
    {
     "data": {
      "text/markdown": [
       "**TEKsystems**"
      ],
      "text/plain": [
       "<IPython.core.display.Markdown object>"
      ]
     },
     "metadata": {},
     "output_type": "display_data"
    },
    {
     "data": {
      "text/markdown": [
       "**Business Systems Analyst**"
      ],
      "text/plain": [
       "<IPython.core.display.Markdown object>"
      ]
     },
     "metadata": {},
     "output_type": "display_data"
    },
    {
     "data": {
      "text/markdown": [
       "**New York, NY**"
      ],
      "text/plain": [
       "<IPython.core.display.Markdown object>"
      ]
     },
     "metadata": {},
     "output_type": "display_data"
    },
    {
     "data": {
      "text/markdown": [
       "**33 views**"
      ],
      "text/plain": [
       "<IPython.core.display.Markdown object>"
      ]
     },
     "metadata": {},
     "output_type": "display_data"
    },
    {
     "data": {
      "text/markdown": [
       "**Posted 1 week ago**"
      ],
      "text/plain": [
       "<IPython.core.display.Markdown object>"
      ]
     },
     "metadata": {},
     "output_type": "display_data"
    },
    {
     "data": {
      "text/markdown": [
       "**5 applicants**"
      ],
      "text/plain": [
       "<IPython.core.display.Markdown object>"
      ]
     },
     "metadata": {},
     "output_type": "display_data"
    },
    {
     "data": {
      "text/markdown": [
       "**Associate**"
      ],
      "text/plain": [
       "<IPython.core.display.Markdown object>"
      ]
     },
     "metadata": {},
     "output_type": "display_data"
    },
    {
     "data": {
      "text/markdown": [
       "**1,001-5,000 employees**"
      ],
      "text/plain": [
       "<IPython.core.display.Markdown object>"
      ]
     },
     "metadata": {},
     "output_type": "display_data"
    },
    {
     "data": {
      "text/markdown": [
       "**Information Technology & Services**"
      ],
      "text/plain": [
       "<IPython.core.display.Markdown object>"
      ]
     },
     "metadata": {},
     "output_type": "display_data"
    },
    {
     "data": {
      "text/markdown": [
       "**8 alumni**"
      ],
      "text/plain": [
       "<IPython.core.display.Markdown object>"
      ]
     },
     "metadata": {},
     "output_type": "display_data"
    },
    {
     "data": {
      "text/markdown": [
       "**Summary\n",
       "\n",
       "The main function of a GBS business systems analyst is to analyze science, engineering, business and all other data processing problems for application to electronic data processing systems. A typical business systems analyst is responsible for analyzing user requirements, procedures and problems to automate or improve existing systems and review system & data capabilities, workflow and scheduling limitations.\n",
       "In this role, there is a heavy balance of understanding how data flows through our different systems and tech stacks as well as conducting required\n",
       "business/data analysis.\n",
       "\n",
       "Job Responsibilities\n",
       " Gather requirements from business units and translate those to programmers and developers. Confer with clients regarding the nature of the information processing or computation needs. Prepare cost-benefit and return-on-investment analyses to aid in decisions on system implementation. Interview or PSO Program Managers, observe job performance or perform the job to determine what information is processed and how it is processed. Coordinate and link the computer systems within an organization to increase compatibility and so information can be shared. Consult with management to ensure agreement on system principles. Expand or modify system to serve new purposes or improve work flow. Partner on the maintenance Maintain the dashboards that power business and operational metrics.\n",
       "Skills\n",
       " Verbal and written communication skills, problem solving skills, attention to detail and interpersonal skills. Ability to work independently and manage one’s time. Basic mentoring skills necessary to provide support and constructive performance feedback. Knowledge of design techniques and principles involved in production of drawings and models. Knowledge of computer software, such as Visual Basic, Java, SQL, etc. Ability to analyze business trends and project or operational impact and improvements. Previous experience with computer applications, such as Microsoft Word and Excel; Enterprise Application experience a plus.\n",
       "Education/Experience\n",
       " Bachelor's degree in a technical or analytical field such as computer science, computer engineering or related field preferred. MBA or other related advanced degree a plus.\n",
       "About TEKsystems\n",
       "\n",
       "We're partners in transformation. We help clients activate ideas and solutions to take advantage of a new world of opportunity. We are a team of 80,000 strong, working with over 6,000 clients, including 80% of the Fortune 500, across North America, Europe and Asia. As an industry leader in Full-Stack Technology Services, Talent Services, and real-world application, we work with progressive leaders to drive change. That's the power of true partnership. TEKsystems is an Allegis Group company.\n",
       "\n",
       "The company is an equal opportunity employer and will consider all applications without regards to race, sex, age, color, religion, national origin, veteran status, disability, sexual orientation, gender identity, genetic information or any characteristic protected by law.\n",
       " \n",
       "\n",
       " \n",
       "\n",
       "          Seniority Level\n",
       "        \n",
       "\n",
       "          Associate\n",
       "        \n",
       "\n",
       "\n",
       "\n",
       "\n",
       "          Industry\n",
       "        \n",
       "\n",
       "\n",
       "              Information Technology & Services\n",
       "            \n",
       "\n",
       "              Computer Software\n",
       "            \n",
       "\n",
       "              Financial Services\n",
       "            \n",
       "\n",
       "\n",
       "\n",
       "\n",
       "        Employment Type\n",
       "      \n",
       "\n",
       "        Full-time\n",
       "      \n",
       "\n",
       "\n",
       "\n",
       "\n",
       "\n",
       "          Job Functions\n",
       "        \n",
       "\n",
       "\n",
       "              Information Technology**"
      ],
      "text/plain": [
       "<IPython.core.display.Markdown object>"
      ]
     },
     "metadata": {},
     "output_type": "display_data"
    },
    {
     "name": "stdout",
     "output_type": "stream",
     "text": [
      "URL: https://www.linkedin.com/jobs/search/?currentJobId=2503815861&f_E=2%2C3&f_TPR=r2592000&geoId=90000070&keywords=business%20analyst&location=New%20York%20City%20Metropolitan%20Area\n"
     ]
    },
    {
     "data": {
      "text/markdown": [
       "********************************************************************************************************************************************************************************************************************************************************************************************************************************************************************************************************************************************************************************************************************"
      ],
      "text/plain": [
       "<IPython.core.display.Markdown object>"
      ]
     },
     "metadata": {},
     "output_type": "display_data"
    },
    {
     "data": {
      "text/markdown": [
       "\n"
      ],
      "text/plain": [
       "<IPython.core.display.Markdown object>"
      ]
     },
     "metadata": {},
     "output_type": "display_data"
    },
    {
     "data": {
      "text/markdown": [
       "**Feather**"
      ],
      "text/plain": [
       "<IPython.core.display.Markdown object>"
      ]
     },
     "metadata": {},
     "output_type": "display_data"
    },
    {
     "data": {
      "text/markdown": [
       "**Business Intelligence Analyst**"
      ],
      "text/plain": [
       "<IPython.core.display.Markdown object>"
      ]
     },
     "metadata": {},
     "output_type": "display_data"
    },
    {
     "data": {
      "text/markdown": [
       "**New York, NY**"
      ],
      "text/plain": [
       "<IPython.core.display.Markdown object>"
      ]
     },
     "metadata": {},
     "output_type": "display_data"
    },
    {
     "data": {
      "text/markdown": [
       "**326 views**"
      ],
      "text/plain": [
       "<IPython.core.display.Markdown object>"
      ]
     },
     "metadata": {},
     "output_type": "display_data"
    },
    {
     "data": {
      "text/markdown": [
       "**Posted 2 weeks ago**"
      ],
      "text/plain": [
       "<IPython.core.display.Markdown object>"
      ]
     },
     "metadata": {},
     "output_type": "display_data"
    },
    {
     "data": {
      "text/markdown": [
       "**83 applicants**"
      ],
      "text/plain": [
       "<IPython.core.display.Markdown object>"
      ]
     },
     "metadata": {},
     "output_type": "display_data"
    },
    {
     "data": {
      "text/markdown": [
       "**Associate**"
      ],
      "text/plain": [
       "<IPython.core.display.Markdown object>"
      ]
     },
     "metadata": {},
     "output_type": "display_data"
    },
    {
     "data": {
      "text/markdown": [
       "**51-200 employees**"
      ],
      "text/plain": [
       "<IPython.core.display.Markdown object>"
      ]
     },
     "metadata": {},
     "output_type": "display_data"
    },
    {
     "data": {
      "text/markdown": [
       "**Furniture**"
      ],
      "text/plain": [
       "<IPython.core.display.Markdown object>"
      ]
     },
     "metadata": {},
     "output_type": "display_data"
    },
    {
     "data": {
      "text/markdown": [
       "**Y,o,u, ,h,a,v,e, ,0, ,c,o,n,n,e,c,t,i,o,n,s, ,a,t, ,t,h,i,s, ,c,o,m,p,a,n,y,.**"
      ],
      "text/plain": [
       "<IPython.core.display.Markdown object>"
      ]
     },
     "metadata": {},
     "output_type": "display_data"
    },
    {
     "data": {
      "text/markdown": [
       "**At Feather, our mission is to transform people's relationship with material goods to create a healthier and happier planet. We are redefining furniture rental for city living and helping people feel at home no matter where they live or how long they plan on staying. By giving people smarter options, Feather is able to keep more furniture in homes and out of landfills.\n",
       "\n",
       "About This Job\n",
       "\n",
       "We are looking for an analytics expert to join the team as a Data/BI Analyst. The ideal candidate will have extensive Looker (or another BI tool) experience, excellent SQL skills and proficiency in Python and/or R. Our data team is currently a team of two, and we are searching for someone who is genuinely passionate about data. The team's goal is to continuously create a culture where all company decisions are directly influenced by the work of the Data team. The work that you do, will be impactful, and because of the size of the team, you will be exposed to everything from optimizing ETL scripts to assisting in building predictive data science models. The opportunity for personal growth is endless, so bring your curiosity and come join the Feather flock!\n",
       "\n",
       "What You'll Do\n",
       " Work closely with internal stakeholders to build out dashboards, looks and other data-related reports  Own and drive analyses across business functions to inform decision making and generate value Assist in streamlining our data ticketing process by managing and documenting stakeholder requests  Help guarantee data integrity and quality, while assisting in building new and creative data sources \n",
       "\n",
       "What You Need To Be Successful\n",
       " Experience in analytics and demonstrated success building intuitive & impactful looks, dashboards, reports & data visualization with a BI tool such as Looker Master at writing SQL queries (CTEs, stored procedures and built in functions) Experience with Asana or other stakeholder ticketing systems Proficiency working with relational databases & data warehouses, preferably Postgres / Redshift Competency in Python/R  Bonus points for experience with DBT, Airflow, ETL scripts, AWS & FiveTran  \n",
       "\n",
       "What You'll Get When You Join Us\n",
       " Competitive compensation Health, vision, dental, and life insurance 401(k), commuter benefits, and HSA/FSA Flexible vacation and paid time off A monthly stipend to support remote work A 50% discount on your own Feather subscription The latest hardware to get the job done\n",
       " \n",
       "\n",
       " \n",
       "\n",
       "          Seniority Level\n",
       "        \n",
       "\n",
       "          Associate\n",
       "        \n",
       "\n",
       "\n",
       "\n",
       "\n",
       "          Industry\n",
       "        \n",
       "\n",
       "\n",
       "              Computer Software\n",
       "            \n",
       "\n",
       "              Consumer Goods\n",
       "            \n",
       "\n",
       "              Retail\n",
       "            \n",
       "\n",
       "\n",
       "\n",
       "\n",
       "        Employment Type\n",
       "      \n",
       "\n",
       "        Full-time\n",
       "      \n",
       "\n",
       "\n",
       "\n",
       "\n",
       "\n",
       "          Job Functions\n",
       "        \n",
       "\n",
       "\n",
       "              Research\n",
       "            \n",
       "\n",
       "              Analyst\n",
       "            \n",
       "\n",
       "              Information Technology**"
      ],
      "text/plain": [
       "<IPython.core.display.Markdown object>"
      ]
     },
     "metadata": {},
     "output_type": "display_data"
    },
    {
     "name": "stdout",
     "output_type": "stream",
     "text": [
      "URL: https://www.linkedin.com/jobs/search/?currentJobId=2521656810&f_E=2%2C3&f_TPR=r2592000&geoId=90000070&keywords=business%20analyst&location=New%20York%20City%20Metropolitan%20Area\n"
     ]
    },
    {
     "data": {
      "text/markdown": [
       "********************************************************************************************************************************************************************************************************************************************************************************************************************************************************************************************************************************************************************************************************************"
      ],
      "text/plain": [
       "<IPython.core.display.Markdown object>"
      ]
     },
     "metadata": {},
     "output_type": "display_data"
    },
    {
     "data": {
      "text/markdown": [
       "\n"
      ],
      "text/plain": [
       "<IPython.core.display.Markdown object>"
      ]
     },
     "metadata": {},
     "output_type": "display_data"
    },
    {
     "data": {
      "text/markdown": [
       "**WebMD**"
      ],
      "text/plain": [
       "<IPython.core.display.Markdown object>"
      ]
     },
     "metadata": {},
     "output_type": "display_data"
    },
    {
     "data": {
      "text/markdown": [
       "**Associate Business/Data Analyst**"
      ],
      "text/plain": [
       "<IPython.core.display.Markdown object>"
      ]
     },
     "metadata": {},
     "output_type": "display_data"
    },
    {
     "data": {
      "text/markdown": [
       "**New York, NY**"
      ],
      "text/plain": [
       "<IPython.core.display.Markdown object>"
      ]
     },
     "metadata": {},
     "output_type": "display_data"
    },
    {
     "data": {
      "text/markdown": [
       "**449 views**"
      ],
      "text/plain": [
       "<IPython.core.display.Markdown object>"
      ]
     },
     "metadata": {},
     "output_type": "display_data"
    },
    {
     "data": {
      "text/markdown": [
       "**Posted 2 weeks ago**"
      ],
      "text/plain": [
       "<IPython.core.display.Markdown object>"
      ]
     },
     "metadata": {},
     "output_type": "display_data"
    },
    {
     "data": {
      "text/markdown": [
       "**108 applicants**"
      ],
      "text/plain": [
       "<IPython.core.display.Markdown object>"
      ]
     },
     "metadata": {},
     "output_type": "display_data"
    },
    {
     "data": {
      "text/markdown": [
       "**Associate**"
      ],
      "text/plain": [
       "<IPython.core.display.Markdown object>"
      ]
     },
     "metadata": {},
     "output_type": "display_data"
    },
    {
     "data": {
      "text/markdown": [
       "**1,001-5,000 employees**"
      ],
      "text/plain": [
       "<IPython.core.display.Markdown object>"
      ]
     },
     "metadata": {},
     "output_type": "display_data"
    },
    {
     "data": {
      "text/markdown": [
       "**Internet**"
      ],
      "text/plain": [
       "<IPython.core.display.Markdown object>"
      ]
     },
     "metadata": {},
     "output_type": "display_data"
    },
    {
     "data": {
      "text/markdown": [
       "**4 alumni**"
      ],
      "text/plain": [
       "<IPython.core.display.Markdown object>"
      ]
     },
     "metadata": {},
     "output_type": "display_data"
    },
    {
     "data": {
      "text/markdown": [
       "**Jobson Healthcare Information (JHI) is a premier healthcare information and marketing services provider, with leading positions in a variety of growing healthcare markets such as pharmacy, eye care, clinician (physicians, nurse practitioners and physician assistants) and the managed markets (managed care, hospitals and government). Through its diversified, multi-media portfolio of marketing services, information databases, publications, medical education programs, events, websites and other digital and traditional media services, JHI is uniquely positioned to inform and educate a highly targeted network of approximately one million healthcare professionals across multiple specialties. \n",
       "\n",
       " All qualified applicants will receive consideration for employment without regard to race, color, religion, sex, sexual orientation, gender identity, national origin, disability, or veteran status. \n",
       "\n",
       "Seeking an Associate Business/Data Analyst within the Data Analytics Team to support the Marketing department. Using various tools, you will access marketing data to help clients understand performance, and how to improve usability, promotions, and marketing campaigns over time. This position can be based in NYC or Parsippany, N.J.\n",
       "\n",
       "\n",
       " In this multifaceted role, the Associate Business/Data Analyst generates insights from a variety of digital media initiatives, including websites, email campaigns, video, and digital advertising. Our ideal candidate has 2+ of digital analytics experience and excellent communication skills.\n",
       "\n",
       "Job Responsibilities\n",
       "\n",
       "Responsible for data collection, performance reporting and analysis for all campaign websites and associated digital marketing effortsSupport internal Marketing teams, developing and providing daily, weekly and monthly reporting using SQL, Enterprise reporting tools and other means.Think creatively about new ways to measure programs, particularly cross-channel promotions and programs that are featured in new channels Responsible for setup and delivery of reporting to our external clients.Investigate issues related to report delivery and assist in identifying root causes.Assist in the delivery of regularly scheduled and ad-hoc reportingDeliver timely accurate reportsWork with team members to come up with innovative new ways to capture and display data (data visualization) Access and analyze digital marketing data from various sources such as Adobe Analytics, Google Analytics, email service providers, and moreDevelop benchmark performance across all digital products and channelsBe able to explain analytic concepts and their importance, to clients and other non-analytical stakeholders Qualifications\n",
       "\n",
       "2+ years’ experience in digital marketing/analyticsExperience in report writing and reporting applications.Ability to be client facing/communicate with clientsAbility to understand data tables and relationships.Experience with databases such as SQL Server, Oracle, MS Access, etc. and strong SQL skills. Ability to write SQL queries from scratch preferredExperience with Excel and some knowledge of advanced analytic functions such as vlookup, named ranges, pivot tables, formulas, etc.Bachelor's degree preferredAbility to work independently and as part of a team while managing multiple projects at the same timeProficiency in Web Analytics software, MS Word, Excel, Access and PowerPointStrong data analytical skillsExperience with Omniture/Adobe Analytics preferred \n",
       "\n",
       "\n",
       "\n",
       "\n",
       " \n",
       "\n",
       " \n",
       "\n",
       "          Seniority Level\n",
       "        \n",
       "\n",
       "          Associate\n",
       "        \n",
       "\n",
       "\n",
       "\n",
       "\n",
       "          Industry\n",
       "        \n",
       "\n",
       "\n",
       "              Online Media\n",
       "            \n",
       "\n",
       "\n",
       "\n",
       "\n",
       "        Employment Type\n",
       "      \n",
       "\n",
       "        Full-time\n",
       "      \n",
       "\n",
       "\n",
       "\n",
       "\n",
       "\n",
       "          Job Functions\n",
       "        \n",
       "\n",
       "\n",
       "              Analyst\n",
       "            \n",
       "\n",
       "              Marketing**"
      ],
      "text/plain": [
       "<IPython.core.display.Markdown object>"
      ]
     },
     "metadata": {},
     "output_type": "display_data"
    },
    {
     "name": "stdout",
     "output_type": "stream",
     "text": [
      "URL: https://www.linkedin.com/jobs/search/?currentJobId=2478172394&f_E=2%2C3&f_TPR=r2592000&geoId=90000070&keywords=business%20analyst&location=New%20York%20City%20Metropolitan%20Area\n"
     ]
    },
    {
     "data": {
      "text/markdown": [
       "********************************************************************************************************************************************************************************************************************************************************************************************************************************************************************************************************************************************************************************************************************"
      ],
      "text/plain": [
       "<IPython.core.display.Markdown object>"
      ]
     },
     "metadata": {},
     "output_type": "display_data"
    },
    {
     "data": {
      "text/markdown": [
       "\n"
      ],
      "text/plain": [
       "<IPython.core.display.Markdown object>"
      ]
     },
     "metadata": {},
     "output_type": "display_data"
    },
    {
     "data": {
      "text/markdown": [
       "**Kaia Health**"
      ],
      "text/plain": [
       "<IPython.core.display.Markdown object>"
      ]
     },
     "metadata": {},
     "output_type": "display_data"
    },
    {
     "data": {
      "text/markdown": [
       "**Data Analyst, Business**"
      ],
      "text/plain": [
       "<IPython.core.display.Markdown object>"
      ]
     },
     "metadata": {},
     "output_type": "display_data"
    },
    {
     "data": {
      "text/markdown": [
       "**New York, NY**"
      ],
      "text/plain": [
       "<IPython.core.display.Markdown object>"
      ]
     },
     "metadata": {},
     "output_type": "display_data"
    },
    {
     "data": {
      "text/markdown": [
       "**264 views**"
      ],
      "text/plain": [
       "<IPython.core.display.Markdown object>"
      ]
     },
     "metadata": {},
     "output_type": "display_data"
    },
    {
     "data": {
      "text/markdown": [
       "**Posted 1 week ago**"
      ],
      "text/plain": [
       "<IPython.core.display.Markdown object>"
      ]
     },
     "metadata": {},
     "output_type": "display_data"
    },
    {
     "data": {
      "text/markdown": [
       "**37 applicants**"
      ],
      "text/plain": [
       "<IPython.core.display.Markdown object>"
      ]
     },
     "metadata": {},
     "output_type": "display_data"
    },
    {
     "data": {
      "text/markdown": [
       "**Associate**"
      ],
      "text/plain": [
       "<IPython.core.display.Markdown object>"
      ]
     },
     "metadata": {},
     "output_type": "display_data"
    },
    {
     "data": {
      "text/markdown": [
       "**51-200 employees**"
      ],
      "text/plain": [
       "<IPython.core.display.Markdown object>"
      ]
     },
     "metadata": {},
     "output_type": "display_data"
    },
    {
     "data": {
      "text/markdown": [
       "**Computer Software**"
      ],
      "text/plain": [
       "<IPython.core.display.Markdown object>"
      ]
     },
     "metadata": {},
     "output_type": "display_data"
    },
    {
     "data": {
      "text/markdown": [
       "**Y,o,u, ,h,a,v,e, ,0, ,c,o,n,n,e,c,t,i,o,n,s, ,a,t, ,t,h,i,s, ,c,o,m,p,a,n,y,.**"
      ],
      "text/plain": [
       "<IPython.core.display.Markdown object>"
      ]
     },
     "metadata": {},
     "output_type": "display_data"
    },
    {
     "data": {
      "text/markdown": [
       "**Kaia is a mission-focused health technology company.\n",
       "\n",
       "Our story began in 2016, when our founders, Konstantin Mehl and Manuel Thurner, created a mission to bring affordable and accessible relief to millions of people with chronic conditions. No strangers to chronic pain themselves, they decided to innovate ways to remove the obstacles many people experience in getting the leading-edge care they need.\n",
       "\n",
       "How do Kaia apps work? Kaia uses a dynamic AI-powered algorithm. Our programs are based on multimodal rehabilitation, a holistic approach to managing chronic conditions. Our users have easy access via smartphone and tablet to our programs for back/hip/knee pain and COPD using this evidence-based approach.\n",
       "\n",
       "Five years into our story, we are a leader in digital therapeutics, with 500,000+ users worldwide. Having raised $125 million from investors like Optum Ventures, idInvest, and Balderton Capital, to name a selected few, we are poised to create a global footprint in digital self-care. Kaia is patient empowerment made easy.\n",
       "\n",
       "The regulatory landscape is quickly adapting to the digital ecosystem. Therefore, our mission and strategy bring new opportunities for determined talent to join our journey. With over 100 “Kaianeers” spread across the US and Europe, we now need more specialized talent to help take our mission further.\n",
       "\n",
       " Role Summary \n",
       "\n",
       "We are looking for an experienced data analyst to join our Analytics team. As a data analyst focused on Business, you will lead analysis measuring the impact of Kaia’s digital therapeutic programs on end-users and within member populations as a whole. You will collaborate closely with stakeholders throughout the Kaia organization, including Product, US Client Success, Sales, and Medical. You will also have the opportunity to interact with clients, consultants, and researchers to perform deep population-level analysis. Together with the rest of the Analytics team, you will help everyone at Kaia Health better understand our users and measure the impact of our therapy programs.\n",
       "\n",
       " The Role Responsibilities Include \n",
       "Discover novel insights that demonstrate Kaia’s value to our clients and partners (health plans and self-insured employers)Work closely with Kaia’s US Client Success team to understand the impact and performance of Kaia’s musculoskeletal pain program for our partners. You will own this work stream end-to-end: determine what the KPIs are, measure those KPIs, socialize these measurements to various stakeholders in the appropriate fashion.Develop key visualizations that properly capture progression of patient reported outcomes, program engagement levels, and success of therapeutic interventionsPartner with Kaia’s Medical team, along with partners at health plans and consultancies, to perform medical claims-based studies measuring Kaia’s ability to reduce healthcare utilization and improve patient’s livesPartner with Product Marketing team to develop case studies on clinical outcomesEmpower Kaia’s Sales team with up-to-date insights related to the impact Kaia’s programWork together with the rest of Analytics to collect insights that fuel Kaia’s ability to support our users in their health journey\n",
       "\n",
       " What You Need For This Position \n",
       "US Authorization Required (for US Posting only)4 - 7 years of experience in data analytics, data science, business analytics, or a related fieldQuantitative skills and an analytical mindset with academic training in STEM field (such as Computer Science, Engineering, Data Science, Statistics) or equivalent practical experienceComfort leading and owning high-impact work streamsProficiency with data visualisation tools (such as Chartio, Looker or similar) for developing interactive reports and analyses for stakeholders with non-technical backgroundThe ability to communicate results to stakeholders and tell stories using dataThe ability to work in a fast-paced and dynamic environmentBasic literacy in and ability to perform statistical analysis using SQL and Python softwareIdeally you also have (optional):\n",
       "Deep understanding of a B2B2C business model, and an appreciation for meeting the needs of clients and end-usersExperience in digital health or working with healthcare data (including sensitive personal health information)Prior experience working with medical claims data and analyzing it\n",
       "\n",
       " You'll Fit In Kaia's Company Culture If You \n",
       "Are user centric and view technology as a tool to improve a user’s lifeHave a bias for action; the world is complex and unpredictable place so starting, releasing, and getting feedback iteratively is the only possible path to successStrive to be articulate and humble, make the complex simple, present ideas openly, accepting that being wrong is part of the processAre not afraid of tackling problems that others deem impossibleThrive in an entrepreneurial team, adapt easily to change, and enjoy a fast-paced environmentHave worked in a fast-growing organization before (preferred)\n",
       "\n",
       " Some Of The Benefits Of Being a Kaianeer \n",
       "\n",
       "You can directly influence the future of digital health in a team of industry experts and digital shapers.\n",
       "\n",
       "You will work alongside serial entrepreneurs (previously founded and scaled another startup, Foodora).\n",
       "\n",
       "You’ll enjoy flat hierarchies, a hybrid work from home/office environment, and flexible vacation and working times.\n",
       "\n",
       "We support your professional development and have a budget set aside for you just for that!\n",
       "\n",
       "Happy hours, team events, and knowledge-sharing sessions galore!\n",
       "\n",
       "Join us if you’re looking for an entrepreneurial adventure and an exciting place to grow personally and professionally.\n",
       " \n",
       "\n",
       " \n",
       "\n",
       "          Seniority Level\n",
       "        \n",
       "\n",
       "          Associate\n",
       "        \n",
       "\n",
       "\n",
       "\n",
       "\n",
       "          Industry\n",
       "        \n",
       "\n",
       "\n",
       "              Information Technology & Services\n",
       "            \n",
       "\n",
       "              Computer Software\n",
       "            \n",
       "\n",
       "              Internet\n",
       "            \n",
       "\n",
       "\n",
       "\n",
       "\n",
       "        Employment Type\n",
       "      \n",
       "\n",
       "        Full-time\n",
       "      \n",
       "\n",
       "\n",
       "\n",
       "\n",
       "\n",
       "          Job Functions\n",
       "        \n",
       "\n",
       "\n",
       "              Information Technology**"
      ],
      "text/plain": [
       "<IPython.core.display.Markdown object>"
      ]
     },
     "metadata": {},
     "output_type": "display_data"
    },
    {
     "name": "stdout",
     "output_type": "stream",
     "text": [
      "URL: https://www.linkedin.com/jobs/search/?currentJobId=2524841355&f_E=2%2C3&f_TPR=r2592000&geoId=90000070&keywords=business%20analyst&location=New%20York%20City%20Metropolitan%20Area\n"
     ]
    },
    {
     "data": {
      "text/markdown": [
       "********************************************************************************************************************************************************************************************************************************************************************************************************************************************************************************************************************************************************************************************************************"
      ],
      "text/plain": [
       "<IPython.core.display.Markdown object>"
      ]
     },
     "metadata": {},
     "output_type": "display_data"
    },
    {
     "data": {
      "text/markdown": [
       "\n"
      ],
      "text/plain": [
       "<IPython.core.display.Markdown object>"
      ]
     },
     "metadata": {},
     "output_type": "display_data"
    },
    {
     "data": {
      "text/markdown": [
       "**Enfusion**"
      ],
      "text/plain": [
       "<IPython.core.display.Markdown object>"
      ]
     },
     "metadata": {},
     "output_type": "display_data"
    },
    {
     "data": {
      "text/markdown": [
       "**Strategy Business Analyst**"
      ],
      "text/plain": [
       "<IPython.core.display.Markdown object>"
      ]
     },
     "metadata": {},
     "output_type": "display_data"
    },
    {
     "data": {
      "text/markdown": [
       "**New York, NY**"
      ],
      "text/plain": [
       "<IPython.core.display.Markdown object>"
      ]
     },
     "metadata": {},
     "output_type": "display_data"
    },
    {
     "data": {
      "text/markdown": [
       "**362 views**"
      ],
      "text/plain": [
       "<IPython.core.display.Markdown object>"
      ]
     },
     "metadata": {},
     "output_type": "display_data"
    },
    {
     "data": {
      "text/markdown": [
       "**Posted 3 weeks ago**"
      ],
      "text/plain": [
       "<IPython.core.display.Markdown object>"
      ]
     },
     "metadata": {},
     "output_type": "display_data"
    },
    {
     "data": {
      "text/markdown": [
       "**143 applicants**"
      ],
      "text/plain": [
       "<IPython.core.display.Markdown object>"
      ]
     },
     "metadata": {},
     "output_type": "display_data"
    },
    {
     "data": {
      "text/markdown": [
       "**Associate**"
      ],
      "text/plain": [
       "<IPython.core.display.Markdown object>"
      ]
     },
     "metadata": {},
     "output_type": "display_data"
    },
    {
     "data": {
      "text/markdown": [
       "**501-1,000 employees**"
      ],
      "text/plain": [
       "<IPython.core.display.Markdown object>"
      ]
     },
     "metadata": {},
     "output_type": "display_data"
    },
    {
     "data": {
      "text/markdown": [
       "**Financial Services**"
      ],
      "text/plain": [
       "<IPython.core.display.Markdown object>"
      ]
     },
     "metadata": {},
     "output_type": "display_data"
    },
    {
     "data": {
      "text/markdown": [
       "**3 alumni**"
      ],
      "text/plain": [
       "<IPython.core.display.Markdown object>"
      ]
     },
     "metadata": {},
     "output_type": "display_data"
    },
    {
     "data": {
      "text/markdown": [
       "**Enfusion is a pioneer in developing innovative, native cloud investment management software, analytics, and managed services for asset managers and hedge funds around the globe. We underpin the investment operations of more than 500 fund managers from our nine global offices spanning four continents. Our unique, seamless, SaaS-based platform is reshaping the global investment operations landscape by removing traditional information boundaries and uniting the front-, middle- and back-office into one system, with one unified data set. Passionate about client service, we complement our software solutions with expert middle- and back-office managed services. In fact, we were recently recognized as Best Managed Services Provider at the 2020 HFM EU Services Awards.\n",
       "\n",
       "Just as Enfusion is committed to excellence in our solutions and services, we’re absolutely committed to the growth, development, and well-being of our people. At Enfusion, you will help fund managers around the world streamline their operations, mitigate risk, and improve transparency and reporting so they can confidently focus on what they do best – invest. Similarly, Enfusion is your opportunity to pursue your passion, showcase and further develop your skills, and launch a meaningful and rewarding career. Whether you are developing our industry-leading technology, delivering world-class client service, creating leading edge analytics, managing critical client operations, winning new business, or supporting Enfusion's ever-expanding global footprint, you will be part of a dynamic, fast-growing, and innovative company committed to your success. Our environment is inclusive, collaborative, and entrepreneurial. We value diversity, foster and reward creative exploration, and strive to continually exceed client expectations.\n",
       "\n",
       "Learn more about your career at Enfusion by visiting www.enfusion.com\n",
       "\n",
       "The Strategy Business Analyst role will report to our Head of Strategy directly, help support and create internal and external strategies for Enfusion.\n",
       "\n",
       "What You'll Do\n",
       " Business Analysts help create scalable solutions for our clients, by identifying opportunities and strategies to enhance the product, service delivery and a client efficiency. Identify strategies for growth and value creation Develop the appropriate business models, operating models, and capabilities to support their strategic vision Maximize the ROI on technology investments and leverage technology and Cloud trends to architect future business strategies Lead data analysis efforts to evaluate operating performance, drive external and internal reporting, and augment organic growth and operating expense planning Support internal market intelligence, including researching industry trends, identifying growth opportunities, and assessing competitive landscapes \n",
       "\n",
       "Who You Are\n",
       " Minimum of a Bachelor’s degree and 2+ years consulting/and or industry experience Superior problem-solving skills and structured thinking Experience in Financial Services sector (e.g., banking, insurance, payment), FinTech, and/or knowledge with digital financial products and platforms preferred Proven track record of delivering results Both technical and soft skills to deliver a complex program Strong verbal and written communication that can be tailored for a specific audience \n",
       "\n",
       "Enfusion offers a competitive compensation and benefits package including medical, dental, and vision coverage (Enfusion covers 100% of the premiums for employees, spouses, domestics partners and qualified dependents); a 401(k) plan with a employer match; a generous Paid Time Off policy; and paid parental leave. Other perks include commuter benefits, an employee assistance program, and a Flexible Spending Account (FSA) program. All benefits and programs are subject to applicable eligibility requirements.\n",
       "\n",
       "Enfusion is fully committed to providing equal employment opportunity to job applicants and employees in recruitment, hiring, employment, compensation, benefits, promotions, transfers, training, and all other terms and conditions of employment. Enfusion will not discriminate on the basis of age, race, color, gender, marital status, sexual orientation, gender identity, pregnancy, national origin, religion, veteran status, physical or mental disability, genetic information, creed, citizenship or any other status protected by laws or regulations in the locations where we do business. We endeavor to maintain a drug-free workplace.\n",
       " \n",
       "\n",
       " \n",
       "\n",
       "          Seniority Level\n",
       "        \n",
       "\n",
       "          Associate\n",
       "        \n",
       "\n",
       "\n",
       "\n",
       "\n",
       "          Industry\n",
       "        \n",
       "\n",
       "\n",
       "              Information Technology & Services\n",
       "            \n",
       "\n",
       "              Computer Software\n",
       "            \n",
       "\n",
       "              Financial Services\n",
       "            \n",
       "\n",
       "\n",
       "\n",
       "\n",
       "        Employment Type\n",
       "      \n",
       "\n",
       "        Full-time\n",
       "      \n",
       "\n",
       "\n",
       "\n",
       "\n",
       "\n",
       "          Job Functions\n",
       "        \n",
       "\n",
       "\n",
       "              Research\n",
       "            \n",
       "\n",
       "              Analyst\n",
       "            \n",
       "\n",
       "              Information Technology**"
      ],
      "text/plain": [
       "<IPython.core.display.Markdown object>"
      ]
     },
     "metadata": {},
     "output_type": "display_data"
    },
    {
     "name": "stdout",
     "output_type": "stream",
     "text": [
      "URL: https://www.linkedin.com/jobs/search/?currentJobId=2487480565&f_E=2%2C3&f_TPR=r2592000&geoId=90000070&keywords=business%20analyst&location=New%20York%20City%20Metropolitan%20Area\n"
     ]
    },
    {
     "data": {
      "text/markdown": [
       "********************************************************************************************************************************************************************************************************************************************************************************************************************************************************************************************************************************************************************************************************************"
      ],
      "text/plain": [
       "<IPython.core.display.Markdown object>"
      ]
     },
     "metadata": {},
     "output_type": "display_data"
    },
    {
     "data": {
      "text/markdown": [
       "\n"
      ],
      "text/plain": [
       "<IPython.core.display.Markdown object>"
      ]
     },
     "metadata": {},
     "output_type": "display_data"
    }
   ],
   "source": [
    "for i in range(len(consider_jobs[:5])):\n",
    "    \n",
    "    company_name = consider_jobs.iloc[i, 0]\n",
    "    job_title = consider_jobs.iloc[i, 1]\n",
    "    location = consider_jobs.iloc[i, 2]\n",
    "    views = consider_jobs.iloc[i, 3]\n",
    "    posted_date = consider_jobs.iloc[i, 4]\n",
    "    no_applicants = consider_jobs.iloc[i, 5]\n",
    "    level = consider_jobs.iloc[i, 6]\n",
    "    company_size = consider_jobs.iloc[i, 7]\n",
    "    industry = consider_jobs.iloc[i, 8]\n",
    "    connections = ','.join(consider_jobs.iloc[i, 9])\n",
    "    job_description = consider_jobs.iloc[i, 10]\n",
    "    url = consider_jobs.iloc[i, 11]\n",
    "    \n",
    "    printmd('**'+ company_name +'**')\n",
    "    printmd('**'+ job_title +'**')\n",
    "    printmd('**'+ location +'**')\n",
    "    printmd('**'+ views +'**')\n",
    "    printmd('**'+ posted_date +'**')\n",
    "    printmd('**'+ no_applicants +'**')\n",
    "    printmd('**'+ level +'**')\n",
    "    printmd('**'+ company_size +'**')\n",
    "    printmd('**'+ industry +'**')\n",
    "    printmd('**'+ connections +'**')\n",
    "    printmd('**'+ job_description +'**')\n",
    "    print('URL:', url)\n",
    "    printmd('*'*500)\n",
    "    printmd('\\n')"
   ]
  }
 ],
 "metadata": {
  "kernelspec": {
   "display_name": "Python 3",
   "language": "python",
   "name": "python3"
  },
  "language_info": {
   "codemirror_mode": {
    "name": "ipython",
    "version": 3
   },
   "file_extension": ".py",
   "mimetype": "text/x-python",
   "name": "python",
   "nbconvert_exporter": "python",
   "pygments_lexer": "ipython3",
   "version": "3.8.3"
  }
 },
 "nbformat": 4,
 "nbformat_minor": 4
}
