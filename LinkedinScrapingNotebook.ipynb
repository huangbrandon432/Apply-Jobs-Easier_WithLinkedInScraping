{
 "cells": [
  {
   "cell_type": "code",
   "execution_count": 1,
   "metadata": {},
   "outputs": [],
   "source": [
    "import sys\n",
    "from selenium import webdriver\n",
    "from webdriver_manager.chrome import ChromeDriverManager\n",
    "import time\n",
    "from bs4 import BeautifulSoup\n",
    "import re\n",
    "import pandas as pd\n",
    "import getpass\n",
    "\n",
    "from IPython.display import Markdown\n",
    "def printmd(string):\n",
    "    display(Markdown(string))\n",
    "\n",
    "pd.set_option('display.max_columns', 20) \n",
    "pd.set_option('display.max_rows', 1000)\n",
    "\n",
    "\n",
    "#install Chromedrivermanager\n",
    "#ChromeDriverManager().install()"
   ]
  },
  {
   "cell_type": "markdown",
   "metadata": {},
   "source": [
    "### Navigate to web page"
   ]
  },
  {
   "cell_type": "code",
   "execution_count": 719,
   "metadata": {},
   "outputs": [],
   "source": [
    "driver = webdriver.Chrome(executable_path='path of chromedriver')\n",
    "\n",
    "#Open login page\n",
    "driver.get('https://www.linkedin.com/login?fromSignIn=true&trk=guest_homepage-basic_nav-header-signin')\n",
    "\n",
    "# #Enter login info:\n",
    "elementID = driver.find_element_by_id('username')\n",
    "elementID.send_keys('bahuang23@gmail.com')\n",
    "\n",
    "elementID = driver.find_element_by_id('password')\n",
    "elementID.send_keys(getpass.getpass(\"Password: \"))\n",
    "#Note: replace the keys \"username\" and \"password\" with your LinkedIn login info\n",
    "\n",
    "elementID.submit()\n"
   ]
  },
  {
   "cell_type": "markdown",
   "metadata": {},
   "source": [
    "### Webpages"
   ]
  },
  {
   "cell_type": "code",
   "execution_count": 686,
   "metadata": {},
   "outputs": [],
   "source": [
    "DA_url_past_wk = 'https://www.linkedin.com/jobs/search/?f_E=2%2C3&f_TPR=r604800&geoId=90000070&keywords=data%20analyst&location=New%20York%20City%20Metropolitan%20Area'\n",
    "DA_url_past_mo = 'https://www.linkedin.com/jobs/search/?f_E=2%2C3&f_TPR=r2592000&geoId=90000070&keywords=data%20analyst&location=New%20York%20City%20Metropolitan%20Area'\n",
    "BA_url_past_mo = 'https://www.linkedin.com/jobs/search/?f_E=2%2C3&f_TPR=r2592000&geoId=90000070&keywords=business%20analyst&location=New%20York%20City%20Metropolitan%20Area'\n",
    "rec_jobs = 'https://www.linkedin.com/jobs/search/?currentJobId=2536632686&pivotType=jymbii'"
   ]
  },
  {
   "cell_type": "markdown",
   "metadata": {},
   "source": [
    "### Go to url"
   ]
  },
  {
   "cell_type": "code",
   "execution_count": 782,
   "metadata": {},
   "outputs": [],
   "source": [
    "driver.get(BA_url_past_mo)"
   ]
  },
  {
   "cell_type": "markdown",
   "metadata": {},
   "source": [
    "### Main script"
   ]
  },
  {
   "cell_type": "code",
   "execution_count": 1085,
   "metadata": {},
   "outputs": [],
   "source": [
    "#initialize empty list to include all jobs\n",
    "job_desc_details_list = []"
   ]
  },
  {
   "cell_type": "code",
   "execution_count": 1086,
   "metadata": {},
   "outputs": [
    {
     "name": "stdout",
     "output_type": "stream",
     "text": [
      "# of listings after scrolling: 25\n",
      "# of listings after scrolling: 20\n",
      "# of listings after scrolling: 25\n",
      "# of listings after scrolling: 25\n",
      "list_total: 95\n"
     ]
    }
   ],
   "source": [
    "next_page_to_scrape = 2\n",
    "last_page_to_scrape = 4\n",
    "\n",
    "for page in range(next_page_to_scrape, last_page_to_scrape + 2):    \n",
    "    \n",
    "    #Scrolling\n",
    "    for _ in range(5):\n",
    "        driver.execute_script(\"window.document.getElementsByClassName('jobs-search-results')[0].scrollBy(0, document.getElementsByClassName('jobs-search-results')[0].scrollHeight/4)\") \n",
    "        time.sleep(0.2)\n",
    "\n",
    "    for _ in range(2):\n",
    "        for _ in range(3):\n",
    "            driver.execute_script(\"window.document.getElementsByClassName('jobs-search-results')[0].scrollBy(0, -document.getElementsByClassName('jobs-search-results')[0].scrollHeight/4)\")\n",
    "            time.sleep(0.2)\n",
    "        for _ in range(3):\n",
    "            driver.execute_script(\"window.document.getElementsByClassName('jobs-search-results')[0].scrollBy(0, document.getElementsByClassName('jobs-search-results')[0].scrollHeight/4)\")\n",
    "            time.sleep(0.2)\n",
    "\n",
    "    \n",
    "    #Get web source\n",
    "    html_source = driver.page_source\n",
    "    soup = BeautifulSoup(html_source, 'html.parser')\n",
    "    \n",
    "    \n",
    "    \n",
    "    #All job tiles\n",
    "    tiles = soup.find_all('li', class_ = \"jobs-search-results__list-item occludable-update p0 relative ember-view\")\n",
    "\n",
    "    print(\"# of listings after scrolling:\", len(tiles))\n",
    "    \n",
    "    #Extracting\n",
    "    for i in tiles:\n",
    "        #clicking\n",
    "        id = i.find('div', class_ = \"mr1 artdeco-entity-lockup__image artdeco-entity-lockup__image--type-square ember-view\").get('id')\n",
    "        driver.find_element_by_id(id).click()\n",
    "        time.sleep(0.5)\n",
    "        \n",
    "\n",
    "        job_desc_details = []\n",
    "        \n",
    "        \n",
    "        \n",
    "        #Job html source \n",
    "        html_source = driver.page_source\n",
    "        soup = BeautifulSoup(html_source, 'html.parser')\n",
    "        \n",
    "        \n",
    "        #Company name\n",
    "        try:\n",
    "            company_name = soup.find(\"a\", class_=\"ember-view t-black t-normal\").getText().strip()\n",
    "        except:\n",
    "            company_name = 'No company name'\n",
    "\n",
    "\n",
    "        job_desc_details.append(company_name)\n",
    "        \n",
    "        \n",
    "        #Title\n",
    "        try:\n",
    "            job_title = soup.find(\"h2\", class_=\"t-24 t-bold\").getText().strip()\n",
    "            job_desc_details.append(job_title)\n",
    "        except:\n",
    "            continue\n",
    "        \n",
    "        \n",
    "        #Location\n",
    "        try: \n",
    "            location = soup.find(\"span\", class_=\"jobs-unified-top-card__bullet\").getText().strip()\n",
    "        except:\n",
    "            continue\n",
    "\n",
    "        job_desc_details.append(location)\n",
    "        \n",
    "        \n",
    "        #Posted date\n",
    "\n",
    "        posted_date = soup.find(\"span\", class_=\"jobs-unified-top-card__posted-date\").getText().strip()\n",
    "        job_desc_details.append(posted_date)\n",
    "\n",
    "        \n",
    "        \n",
    "        #Applicants, Level, Company size, Industry, Connections\n",
    "        \n",
    "        try:\n",
    "            applicants_no = soup.find(\"span\", class_=\"jobs-unified-top-card__applicant-count\").getText().strip()\n",
    "        except:\n",
    "            applicants_no = soup.find_all(\"span\", class_=\"jobs-unified-top-card__bullet\")[1].getText().strip()\n",
    "        \n",
    "        level_compsize_industry_connections = soup.find_all(\"div\", class_=\"jobs-unified-top-card__job-insight\")\n",
    "        \n",
    "        \n",
    "        try:\n",
    "            level = level_compsize_industry_connections[0].getText().strip()\n",
    "            comp_size_and_industry = level_compsize_industry_connections[1].getText().strip()\n",
    "        except:\n",
    "            level = \"Couldn't get level\"\n",
    "            comp_size_and_industry = 'Company page not claimed'\n",
    "            \n",
    "        if len(level_compsize_industry_connections) > 3:    \n",
    "            connections = level_compsize_industry_connections[2].getText().strip()\n",
    "        else:\n",
    "            connections = 'No connections'\n",
    "        \n",
    "        \n",
    "        job_desc_details.extend([applicants_no, level, comp_size_and_industry, connections])\n",
    "        \n",
    "                \n",
    "        \n",
    "        #JD\n",
    "        job_description = soup.find(\"div\", class_=\"jobs-box__html-content jobs-description-content__text t-14 t-normal\").getText().strip()\n",
    "\n",
    "        job_desc_details.append(job_description)\n",
    "        \n",
    "        \n",
    "        #URL\n",
    "        job_desc_details.append(driver.current_url)\n",
    "        \n",
    "        \n",
    "        #Adding all job info to list\n",
    "        job_desc_details_list.append(job_desc_details)\n",
    "    \n",
    "    \n",
    "    #Click next page\n",
    "    try:\n",
    "        driver.find_element_by_xpath(f\"//ul[@class='artdeco-pagination__pages artdeco-pagination__pages--number']/li[@data-test-pagination-page-btn = '{page}']\").click()\n",
    "    except:\n",
    "        pass\n",
    "    time.sleep(1.5)\n",
    "\n",
    "    \n",
    "    \n",
    "print(\"list_total:\", len(job_desc_details_list))"
   ]
  },
  {
   "cell_type": "markdown",
   "metadata": {},
   "source": [
    "### Putting jobs info into dataframe"
   ]
  },
  {
   "cell_type": "code",
   "execution_count": 1087,
   "metadata": {},
   "outputs": [
    {
     "name": "stdout",
     "output_type": "stream",
     "text": [
      "(95, 10)\n"
     ]
    }
   ],
   "source": [
    "job_desc_details_list_df = pd.DataFrame(job_desc_details_list, columns = ['Company Name', 'Job Title', 'Location', 'Posted_date', '# of applicants', 'Level', 'Company size and Industry', \n",
    "                                                                          'Connections', 'Job Description', 'url'])\n",
    "\n",
    "job_desc_details_list_df = job_desc_details_list_df.drop_duplicates(subset = ['Company Name', 'Job Title', 'Location', 'Posted_date', '# of applicants', 'Level', 'Company size and Industry', 'url']).reset_index(drop=True)\n",
    "print(job_desc_details_list_df.shape)"
   ]
  },
  {
   "cell_type": "code",
   "execution_count": 812,
   "metadata": {},
   "outputs": [
    {
     "data": {
      "text/html": [
       "<div>\n",
       "<style scoped>\n",
       "    .dataframe tbody tr th:only-of-type {\n",
       "        vertical-align: middle;\n",
       "    }\n",
       "\n",
       "    .dataframe tbody tr th {\n",
       "        vertical-align: top;\n",
       "    }\n",
       "\n",
       "    .dataframe thead th {\n",
       "        text-align: right;\n",
       "    }\n",
       "</style>\n",
       "<table border=\"1\" class=\"dataframe\">\n",
       "  <thead>\n",
       "    <tr style=\"text-align: right;\">\n",
       "      <th></th>\n",
       "      <th>Company Name</th>\n",
       "      <th>Job Title</th>\n",
       "      <th>Location</th>\n",
       "      <th>Views</th>\n",
       "      <th>Posted_date</th>\n",
       "      <th># of applicants</th>\n",
       "      <th>Level</th>\n",
       "      <th>Company size</th>\n",
       "      <th>Industry</th>\n",
       "      <th>Connections</th>\n",
       "      <th>Job Description</th>\n",
       "      <th>url</th>\n",
       "    </tr>\n",
       "  </thead>\n",
       "  <tbody>\n",
       "    <tr>\n",
       "      <th>0</th>\n",
       "      <td>Greenlots</td>\n",
       "      <td>Business Development Analyst - East Coast</td>\n",
       "      <td>New York, NY</td>\n",
       "      <td>115 views</td>\n",
       "      <td>Posted 3 weeks ago</td>\n",
       "      <td>12 applicants</td>\n",
       "      <td>Associate</td>\n",
       "      <td>51-200 employees</td>\n",
       "      <td>Automotive</td>\n",
       "      <td>You have 0 connections at this company.</td>\n",
       "      <td>Business Development Analyst – East Coast\\n\\nJ...</td>\n",
       "      <td>https://www.linkedin.com/jobs/search/?currentJ...</td>\n",
       "    </tr>\n",
       "    <tr>\n",
       "      <th>1</th>\n",
       "      <td>Ross Stores, Inc.</td>\n",
       "      <td>Business Analyst, Business Information</td>\n",
       "      <td>New York, NY</td>\n",
       "      <td>1,332 views</td>\n",
       "      <td>Posted 3 weeks ago</td>\n",
       "      <td>600 applicants</td>\n",
       "      <td>Associate</td>\n",
       "      <td>10001+ employees</td>\n",
       "      <td>Retail</td>\n",
       "      <td>[2 alumni]</td>\n",
       "      <td>Posted by\\n    \\n\\n\\n\\n\\n\\n\\n\\n\\n            D...</td>\n",
       "      <td>https://www.linkedin.com/jobs/search/?currentJ...</td>\n",
       "    </tr>\n",
       "    <tr>\n",
       "      <th>2</th>\n",
       "      <td>TEKsystems</td>\n",
       "      <td>Business Systems Analyst</td>\n",
       "      <td>New York, NY</td>\n",
       "      <td>33 views</td>\n",
       "      <td>Posted 1 week ago</td>\n",
       "      <td>5 applicants</td>\n",
       "      <td>Associate</td>\n",
       "      <td>1,001-5,000 employees</td>\n",
       "      <td>Information Technology &amp; Services</td>\n",
       "      <td>[8 alumni]</td>\n",
       "      <td>Summary\\n\\nThe main function of a GBS business...</td>\n",
       "      <td>https://www.linkedin.com/jobs/search/?currentJ...</td>\n",
       "    </tr>\n",
       "    <tr>\n",
       "      <th>3</th>\n",
       "      <td>WeWork</td>\n",
       "      <td>Associate, Data Analyst</td>\n",
       "      <td>New York, NY</td>\n",
       "      <td>597 views</td>\n",
       "      <td>Posted 14 hours ago</td>\n",
       "      <td>171 applicants</td>\n",
       "      <td>Associate</td>\n",
       "      <td>5,001-10,000 employees</td>\n",
       "      <td>Real Estate</td>\n",
       "      <td>[11 alumni]</td>\n",
       "      <td>WeWork Mission\\n\\nWeWork is the platform for c...</td>\n",
       "      <td>https://www.linkedin.com/jobs/search/?currentJ...</td>\n",
       "    </tr>\n",
       "    <tr>\n",
       "      <th>4</th>\n",
       "      <td>Peloton Interactive</td>\n",
       "      <td>Data/Reporting Analyst, IT Service Design</td>\n",
       "      <td>New York, NY</td>\n",
       "      <td>275 views</td>\n",
       "      <td>Posted 1 day ago</td>\n",
       "      <td>45 applicants</td>\n",
       "      <td>Associate</td>\n",
       "      <td>1,001-5,000 employees</td>\n",
       "      <td>Health, Wellness &amp; Fitness</td>\n",
       "      <td>[3 company alumni, 19 alumni]</td>\n",
       "      <td>Peloton’s IT organization is seeking an experi...</td>\n",
       "      <td>https://www.linkedin.com/jobs/search/?currentJ...</td>\n",
       "    </tr>\n",
       "    <tr>\n",
       "      <th>5</th>\n",
       "      <td>Etsy</td>\n",
       "      <td>Business Development Analyst</td>\n",
       "      <td>Brooklyn, NY</td>\n",
       "      <td>266 views</td>\n",
       "      <td>Posted 1 week ago</td>\n",
       "      <td>46 applicants</td>\n",
       "      <td>Associate</td>\n",
       "      <td>1,001-5,000 employees</td>\n",
       "      <td>Internet</td>\n",
       "      <td>[1 connection, 2 company alumni]</td>\n",
       "      <td>Company Description\\n\\nEtsy is the global mark...</td>\n",
       "      <td>https://www.linkedin.com/jobs/search/?currentJ...</td>\n",
       "    </tr>\n",
       "    <tr>\n",
       "      <th>6</th>\n",
       "      <td>Feather</td>\n",
       "      <td>Business Intelligence Analyst</td>\n",
       "      <td>New York, NY</td>\n",
       "      <td>326 views</td>\n",
       "      <td>Posted 2 weeks ago</td>\n",
       "      <td>83 applicants</td>\n",
       "      <td>Associate</td>\n",
       "      <td>51-200 employees</td>\n",
       "      <td>Furniture</td>\n",
       "      <td>You have 0 connections at this company.</td>\n",
       "      <td>At Feather, our mission is to transform people...</td>\n",
       "      <td>https://www.linkedin.com/jobs/search/?currentJ...</td>\n",
       "    </tr>\n",
       "    <tr>\n",
       "      <th>7</th>\n",
       "      <td>Glossier, Inc.</td>\n",
       "      <td>Program Analyst</td>\n",
       "      <td>New York, NY</td>\n",
       "      <td>457 views</td>\n",
       "      <td>Posted 4 days ago</td>\n",
       "      <td>26 applicants</td>\n",
       "      <td>Associate</td>\n",
       "      <td>201-500 employees</td>\n",
       "      <td>Consumer Goods</td>\n",
       "      <td>[1 alum]</td>\n",
       "      <td>Overview\\n\\nThe Programs Business Analyst II w...</td>\n",
       "      <td>https://www.linkedin.com/jobs/search/?currentJ...</td>\n",
       "    </tr>\n",
       "    <tr>\n",
       "      <th>8</th>\n",
       "      <td>Nomura</td>\n",
       "      <td>Data Management Analyst</td>\n",
       "      <td>New York City Metropolitan Area</td>\n",
       "      <td>517 views</td>\n",
       "      <td>Posted 1 day ago</td>\n",
       "      <td>239 applicants</td>\n",
       "      <td>Associate</td>\n",
       "      <td>10001+ employees</td>\n",
       "      <td>Financial Services</td>\n",
       "      <td>[1 connection, 19 alumni]</td>\n",
       "      <td>Company overview\\nNomura is an Asia-based fina...</td>\n",
       "      <td>https://www.linkedin.com/jobs/search/?currentJ...</td>\n",
       "    </tr>\n",
       "    <tr>\n",
       "      <th>9</th>\n",
       "      <td>WebMD</td>\n",
       "      <td>Associate Business/Data Analyst</td>\n",
       "      <td>New York, NY</td>\n",
       "      <td>449 views</td>\n",
       "      <td>Posted 2 weeks ago</td>\n",
       "      <td>108 applicants</td>\n",
       "      <td>Associate</td>\n",
       "      <td>1,001-5,000 employees</td>\n",
       "      <td>Internet</td>\n",
       "      <td>[4 alumni]</td>\n",
       "      <td>Jobson Healthcare Information (JHI) is a premi...</td>\n",
       "      <td>https://www.linkedin.com/jobs/search/?currentJ...</td>\n",
       "    </tr>\n",
       "  </tbody>\n",
       "</table>\n",
       "</div>"
      ],
      "text/plain": [
       "          Company Name                                  Job Title  \\\n",
       "0            Greenlots  Business Development Analyst - East Coast   \n",
       "1    Ross Stores, Inc.     Business Analyst, Business Information   \n",
       "2           TEKsystems                   Business Systems Analyst   \n",
       "3               WeWork                    Associate, Data Analyst   \n",
       "4  Peloton Interactive  Data/Reporting Analyst, IT Service Design   \n",
       "5                 Etsy               Business Development Analyst   \n",
       "6              Feather              Business Intelligence Analyst   \n",
       "7       Glossier, Inc.                            Program Analyst   \n",
       "8               Nomura                    Data Management Analyst   \n",
       "9                WebMD            Associate Business/Data Analyst   \n",
       "\n",
       "                          Location        Views          Posted_date  \\\n",
       "0                     New York, NY    115 views   Posted 3 weeks ago   \n",
       "1                     New York, NY  1,332 views   Posted 3 weeks ago   \n",
       "2                     New York, NY     33 views    Posted 1 week ago   \n",
       "3                     New York, NY    597 views  Posted 14 hours ago   \n",
       "4                     New York, NY    275 views     Posted 1 day ago   \n",
       "5                     Brooklyn, NY    266 views    Posted 1 week ago   \n",
       "6                     New York, NY    326 views   Posted 2 weeks ago   \n",
       "7                     New York, NY    457 views    Posted 4 days ago   \n",
       "8  New York City Metropolitan Area    517 views     Posted 1 day ago   \n",
       "9                     New York, NY    449 views   Posted 2 weeks ago   \n",
       "\n",
       "  # of applicants      Level            Company size  \\\n",
       "0   12 applicants  Associate        51-200 employees   \n",
       "1  600 applicants  Associate        10001+ employees   \n",
       "2    5 applicants  Associate   1,001-5,000 employees   \n",
       "3  171 applicants  Associate  5,001-10,000 employees   \n",
       "4   45 applicants  Associate   1,001-5,000 employees   \n",
       "5   46 applicants  Associate   1,001-5,000 employees   \n",
       "6   83 applicants  Associate        51-200 employees   \n",
       "7   26 applicants  Associate       201-500 employees   \n",
       "8  239 applicants  Associate        10001+ employees   \n",
       "9  108 applicants  Associate   1,001-5,000 employees   \n",
       "\n",
       "                            Industry                              Connections  \\\n",
       "0                         Automotive  You have 0 connections at this company.   \n",
       "1                             Retail                               [2 alumni]   \n",
       "2  Information Technology & Services                               [8 alumni]   \n",
       "3                        Real Estate                              [11 alumni]   \n",
       "4         Health, Wellness & Fitness            [3 company alumni, 19 alumni]   \n",
       "5                           Internet         [1 connection, 2 company alumni]   \n",
       "6                          Furniture  You have 0 connections at this company.   \n",
       "7                     Consumer Goods                                 [1 alum]   \n",
       "8                 Financial Services                [1 connection, 19 alumni]   \n",
       "9                           Internet                               [4 alumni]   \n",
       "\n",
       "                                     Job Description  \\\n",
       "0  Business Development Analyst – East Coast\\n\\nJ...   \n",
       "1  Posted by\\n    \\n\\n\\n\\n\\n\\n\\n\\n\\n            D...   \n",
       "2  Summary\\n\\nThe main function of a GBS business...   \n",
       "3  WeWork Mission\\n\\nWeWork is the platform for c...   \n",
       "4  Peloton’s IT organization is seeking an experi...   \n",
       "5  Company Description\\n\\nEtsy is the global mark...   \n",
       "6  At Feather, our mission is to transform people...   \n",
       "7  Overview\\n\\nThe Programs Business Analyst II w...   \n",
       "8  Company overview\\nNomura is an Asia-based fina...   \n",
       "9  Jobson Healthcare Information (JHI) is a premi...   \n",
       "\n",
       "                                                 url  \n",
       "0  https://www.linkedin.com/jobs/search/?currentJ...  \n",
       "1  https://www.linkedin.com/jobs/search/?currentJ...  \n",
       "2  https://www.linkedin.com/jobs/search/?currentJ...  \n",
       "3  https://www.linkedin.com/jobs/search/?currentJ...  \n",
       "4  https://www.linkedin.com/jobs/search/?currentJ...  \n",
       "5  https://www.linkedin.com/jobs/search/?currentJ...  \n",
       "6  https://www.linkedin.com/jobs/search/?currentJ...  \n",
       "7  https://www.linkedin.com/jobs/search/?currentJ...  \n",
       "8  https://www.linkedin.com/jobs/search/?currentJ...  \n",
       "9  https://www.linkedin.com/jobs/search/?currentJ...  "
      ]
     },
     "execution_count": 812,
     "metadata": {},
     "output_type": "execute_result"
    }
   ],
   "source": [
    "job_desc_details_list_df.head(10)"
   ]
  },
  {
   "cell_type": "markdown",
   "metadata": {},
   "source": [
    "### Filter"
   ]
  },
  {
   "cell_type": "code",
   "execution_count": 1088,
   "metadata": {},
   "outputs": [
    {
     "name": "stdout",
     "output_type": "stream",
     "text": [
      "(55, 10)\n"
     ]
    }
   ],
   "source": [
    "#Specify words to remove\n",
    "words_to_remove = ['3 years', '3+ years', '4+ years', '5+ years', '5 years', '6 years', '10+ years', '10 years', '6+ years', '3-5+ years', 'Five or more years', 'Six or more years', 'Three or more years', 'four or more years',\n",
    "                'Five plus years', 'five or more years', 'six or more years', 'three or more years', 'Four or more years', '3-5 years', '8 years', '4 years as an individual contributor', '8+ year', '3+ experience',\n",
    "                  '3+ year', '4 plus years', 'junior', 'Junior', '4 - 7 years', '7 years of experience']\n",
    "\n",
    "\n",
    "consider_indexes = []\n",
    "\n",
    "for i in range(len(job_desc_details_list_df)):\n",
    "    jd = job_desc_details_list_df.loc[i, 'Job Description']\n",
    "    if any(x in jd for x in words_to_remove):\n",
    "        consider_indexes.append(i)\n",
    "        \n",
    "consider_jobs = job_desc_details_list_df[~job_desc_details_list_df.index.isin(consider_indexes)].reset_index(drop=True)\n",
    "print(consider_jobs.shape)"
   ]
  },
  {
   "cell_type": "markdown",
   "metadata": {},
   "source": [
    "#### Filter industry"
   ]
  },
  {
   "cell_type": "code",
   "execution_count": 975,
   "metadata": {},
   "outputs": [],
   "source": [
    "industries_to_filter_out = ['Management Consulting', 'Airlines/Aviation']\n",
    "\n",
    "consider_jobs = consider_jobs[~consider_jobs['Industry'].isin(industries_to_filter_out)]\n",
    "\n",
    "consider_jobs.reset_index(drop=True, inplace=True)"
   ]
  },
  {
   "cell_type": "markdown",
   "metadata": {},
   "source": [
    "#### Lookup posting"
   ]
  },
  {
   "cell_type": "code",
   "execution_count": 1089,
   "metadata": {},
   "outputs": [
    {
     "data": {
      "text/plain": [
       "array(['WarnerMedia', 'Analyst, Research - HBO Max', 'New York, NY',\n",
       "       '2 hours ago', '23 applicants', 'Full-time · Associate',\n",
       "       '10,001+ employees · Entertainment',\n",
       "       '13 company alumni · 13 school alumni',\n",
       "       'PeopleSoft Requisition Number\\nR000037432\\n\\n Company Overview \\n\\nWarnerMedia is a leading media and entertainment company that creates and distributes premium and popular content from a diverse array of talented storytellers and journalists to global audiences through its consumer brands including: HBO, HBO Max, Warner Bros., TNT, TBS, truTV, CNN, DC Entertainment, New Line, Cartoon Network, Adult Swim, Turner Classic Movies and others.\\n\\n Business Unit Overview \\n\\nHBO Max is the future of entertainment and storytelling.\\u202fWarnerMedia’s streaming entertainment offering, HBO Max launched in May 2020 and is the culmination of some of the most innovative new technology and greatest creative talent in the industry. Anchored by the entire HBO service, arguably the greatest brand in television, HBO Max also features\\u202ffan favorites from the WarnerMedia library including\\u202fWarner Bros., New Line, DC, CNN, TNT, TBS, truTV, Turner Classic Movies, Cartoon Network, Adult Swim, Crunchyroll, Rooster Teeth, Looney Tunes, and more.\\u202fHBO Max is home to key third-party library acquisitions such as Friends, South Park and Doctor Who, and more\\u202fthan\\u202f50 exclusive Originals in its first year, from the likes of groundbreaking creative talent such as J.J. Abrams, Ridley Scott, Jordan Peele, Steven Soderbergh, Michael Mann, Mindy Kaling, Reese Witherspoon, Anna Kendrick, Greg Berlanti, Melissa McCarthy, Robert Zemeckis and other visionaries. Find out more information\\u202fat HBOMax.com.\\n\\n The Job \\n\\nWarner Media HBO MAX DTC Research is a forward-thinking team, committed to providing best-in-class research that drives measurable value to the business. We are the voice of the consumer, delivering and implementing insights to shape business strategy and support growth and retention goals.\\n\\nThe department is looking for an Analyst, Research, to be a part of the HBO MAX/HBO Consumer Intelligence Research team, focusing on creating a foundational knowledge of the consumer for the business to grow from. The Analyst will serve as an integral member of an active team, collaborating with many departments across the business including Strategy, Content, Marketing and Product. The Analyst should have exposure to qualitative and quantitative research and analysis and feel comfortable translating data to stakeholders.\\n\\n The Daily \\n\\n The Analyst will work with Manager to execute research projects that inform the business  Support development of research plans and strategies that translate business goals into research objectives and studies  Analyze data and create presentations based on findings  Provide ongoing reports on consumer behavior using 3rd party data sources  Analyze data and develop quick turn-around deliverables that are visual, concise, and easily digestible  Deliver research support with ad-hoc analyses for management  Develop strong relationships and maintain regular communication with internal stakeholders and Research colleagues  Help manage vendor relationships \\n\\n\\n The Essentials \\n\\n Bachelor’s Degree required  Minimum of 2 years of market research experience  Exposure to quant/qual research  Open minded, creative and innovative thinker  Strong analytical and problem-solving skills  Strong proficiency in Microsoft PowerPoint, Excel and Word  Ability to synthesize information and produce insightful and accurate analyses  Be adept at data visualization to tell story of insights in a clear and digestible way  Ability to work in a fast-paced high-pressure environment without sacrificing accuracy and attention to detail; strong project management skills are essential  Ability and strong interest to learn new data software tools  Excellent organizational skills  Strong verbal and written communication and presentation skills  Ability to work independently on multiple projects simultaneously  Excited to work for entertainment leader \\n\\n\\n The Perks \\n\\n Exclusive WarnerMedia events and advance screenings Paid time off every year to volunteer for eligible employees Access to well-being tools, resources, and freebies Access to in-house learning and development resources Part of the WarnerMedia family of powerhouse brands\\n\\nWarner Media, LLC and its subsidiaries are equal opportunity employers. Qualified candidates will receive consideration for employment without regard to race, color, religion, national origin, gender, sexual orientation, gender identity or expression, age, mental or physical disability, and genetic information, marital status, citizenship status, military status, protected veteran status or any other category protected by law.',\n",
       "       'https://www.linkedin.com/jobs/search/?currentJobId=2579821426&f_E=2%2C3&f_TPR=r2592000&geoId=90000070&keywords=data%20analyst&location=New%20York%20City%20Metropolitan%20Area'],\n",
       "      dtype=object)"
      ]
     },
     "execution_count": 1089,
     "metadata": {},
     "output_type": "execute_result"
    }
   ],
   "source": [
    "consider_jobs.loc[2].values"
   ]
  },
  {
   "cell_type": "markdown",
   "metadata": {},
   "source": [
    "### Print filtered jobs dataframe"
   ]
  },
  {
   "cell_type": "code",
   "execution_count": 1094,
   "metadata": {},
   "outputs": [
    {
     "data": {
      "text/html": [
       "<div>\n",
       "<style scoped>\n",
       "    .dataframe tbody tr th:only-of-type {\n",
       "        vertical-align: middle;\n",
       "    }\n",
       "\n",
       "    .dataframe tbody tr th {\n",
       "        vertical-align: top;\n",
       "    }\n",
       "\n",
       "    .dataframe thead th {\n",
       "        text-align: right;\n",
       "    }\n",
       "</style>\n",
       "<table border=\"1\" class=\"dataframe\">\n",
       "  <thead>\n",
       "    <tr style=\"text-align: right;\">\n",
       "      <th></th>\n",
       "      <th>Company Name</th>\n",
       "      <th>Job Title</th>\n",
       "      <th>Location</th>\n",
       "      <th>Posted_date</th>\n",
       "      <th># of applicants</th>\n",
       "      <th>Level</th>\n",
       "      <th>Company size and Industry</th>\n",
       "      <th>Connections</th>\n",
       "      <th>Job Description</th>\n",
       "      <th>url</th>\n",
       "    </tr>\n",
       "  </thead>\n",
       "  <tbody>\n",
       "    <tr>\n",
       "      <th>0</th>\n",
       "      <td>Creative Circle</td>\n",
       "      <td>Analyst</td>\n",
       "      <td>New York, NY</td>\n",
       "      <td>28 minutes ago</td>\n",
       "      <td>New York, NY</td>\n",
       "      <td>Full-time · Entry level</td>\n",
       "      <td>201-500 employees · Staffing &amp; Recruiting</td>\n",
       "      <td>1 school alumni</td>\n",
       "      <td>Our agency client is seeking an Analyst to fun...</td>\n",
       "      <td>https://www.linkedin.com/jobs/search/?currentJ...</td>\n",
       "    </tr>\n",
       "    <tr>\n",
       "      <th>1</th>\n",
       "      <td>Affinity Solutions</td>\n",
       "      <td>Business Data Analyst</td>\n",
       "      <td>New York, NY</td>\n",
       "      <td>6 hours ago</td>\n",
       "      <td>36 applicants</td>\n",
       "      <td>Full-time · Associate</td>\n",
       "      <td>51-200 employees · Marketing &amp; Advertising</td>\n",
       "      <td>No connections</td>\n",
       "      <td>Business/Data Analyst Affinity Solutions is th...</td>\n",
       "      <td>https://www.linkedin.com/jobs/search/?currentJ...</td>\n",
       "    </tr>\n",
       "    <tr>\n",
       "      <th>2</th>\n",
       "      <td>WarnerMedia</td>\n",
       "      <td>Analyst, Research - HBO Max</td>\n",
       "      <td>New York, NY</td>\n",
       "      <td>2 hours ago</td>\n",
       "      <td>23 applicants</td>\n",
       "      <td>Full-time · Associate</td>\n",
       "      <td>10,001+ employees · Entertainment</td>\n",
       "      <td>13 company alumni · 13 school alumni</td>\n",
       "      <td>PeopleSoft Requisition Number\\nR000037432\\n\\n ...</td>\n",
       "      <td>https://www.linkedin.com/jobs/search/?currentJ...</td>\n",
       "    </tr>\n",
       "    <tr>\n",
       "      <th>3</th>\n",
       "      <td>Harnham</td>\n",
       "      <td>Data Analyst</td>\n",
       "      <td>New York City Metropolitan Area</td>\n",
       "      <td>4 hours ago</td>\n",
       "      <td>157 applicants</td>\n",
       "      <td>Full-time · Entry level</td>\n",
       "      <td>51-200 employees · Staffing &amp; Recruiting</td>\n",
       "      <td>No connections</td>\n",
       "      <td>Posted by\\n    \\n\\n\\n\\n\\n\\n\\n\\n\\n            O...</td>\n",
       "      <td>https://www.linkedin.com/jobs/search/?currentJ...</td>\n",
       "    </tr>\n",
       "    <tr>\n",
       "      <th>4</th>\n",
       "      <td>JetBlue</td>\n",
       "      <td>Engineer Crew Analytics</td>\n",
       "      <td>Long Island City, New York, United States</td>\n",
       "      <td>48 minutes ago</td>\n",
       "      <td>1 applicant</td>\n",
       "      <td>Couldn't get level</td>\n",
       "      <td>Company page not claimed</td>\n",
       "      <td>No connections</td>\n",
       "      <td>Position Summary\\n\\nThe position is responsibl...</td>\n",
       "      <td>https://www.linkedin.com/jobs/search/?currentJ...</td>\n",
       "    </tr>\n",
       "    <tr>\n",
       "      <th>5</th>\n",
       "      <td>Scouted</td>\n",
       "      <td>Data Insights Analyst</td>\n",
       "      <td>New York City Metropolitan Area</td>\n",
       "      <td>1 hour ago</td>\n",
       "      <td>32 applicants</td>\n",
       "      <td>Full-time · Entry level</td>\n",
       "      <td>11-50 employees · Human Resources</td>\n",
       "      <td>No connections</td>\n",
       "      <td>The hiring process for this role is managed by...</td>\n",
       "      <td>https://www.linkedin.com/jobs/search/?currentJ...</td>\n",
       "    </tr>\n",
       "    <tr>\n",
       "      <th>6</th>\n",
       "      <td>The Topps Company</td>\n",
       "      <td>Data Analyst</td>\n",
       "      <td>New York, NY</td>\n",
       "      <td>12 hours ago</td>\n",
       "      <td>55 applicants</td>\n",
       "      <td>Full-time · Entry level</td>\n",
       "      <td>201-500 employees · Consumer Goods</td>\n",
       "      <td>No connections</td>\n",
       "      <td>Overview\\n\\nFounded in 1938, The Topps Company...</td>\n",
       "      <td>https://www.linkedin.com/jobs/search/?currentJ...</td>\n",
       "    </tr>\n",
       "    <tr>\n",
       "      <th>7</th>\n",
       "      <td>LeafLink</td>\n",
       "      <td>Data Analyst</td>\n",
       "      <td>New York, NY</td>\n",
       "      <td>1 week ago</td>\n",
       "      <td>136 applicants</td>\n",
       "      <td>Full-time · Entry level</td>\n",
       "      <td>51-200 employees · Computer Software</td>\n",
       "      <td>No connections</td>\n",
       "      <td>About LeafLink\\n\\nLeafLink is the regulated ca...</td>\n",
       "      <td>https://www.linkedin.com/jobs/search/?currentJ...</td>\n",
       "    </tr>\n",
       "    <tr>\n",
       "      <th>8</th>\n",
       "      <td>Cornershop by Uber</td>\n",
       "      <td>Data Analyst</td>\n",
       "      <td>New York City Metropolitan Area</td>\n",
       "      <td>4 days ago</td>\n",
       "      <td>114 applicants</td>\n",
       "      <td>Full-time · Associate</td>\n",
       "      <td>1,001-5,000 employees · Internet</td>\n",
       "      <td>No connections</td>\n",
       "      <td>Posted by\\n    \\n\\n\\n\\n\\n\\n\\n\\n\\n            C...</td>\n",
       "      <td>https://www.linkedin.com/jobs/search/?currentJ...</td>\n",
       "    </tr>\n",
       "    <tr>\n",
       "      <th>9</th>\n",
       "      <td>American Express</td>\n",
       "      <td>Product Analyst, Customer 360</td>\n",
       "      <td>New York, NY</td>\n",
       "      <td>17 hours ago</td>\n",
       "      <td>21 applicants</td>\n",
       "      <td>$63,000/yr - $95,000/yr (est.) · Full-time · A...</td>\n",
       "      <td>10,001+ employees · Financial Services</td>\n",
       "      <td>1 connection · 1 company alumni · 48 school al...</td>\n",
       "      <td>You Lead the Way. We’ve Got Your Back.\\n\\nAt A...</td>\n",
       "      <td>https://www.linkedin.com/jobs/search/?currentJ...</td>\n",
       "    </tr>\n",
       "  </tbody>\n",
       "</table>\n",
       "</div>"
      ],
      "text/plain": [
       "         Company Name                      Job Title  \\\n",
       "0     Creative Circle                        Analyst   \n",
       "1  Affinity Solutions          Business Data Analyst   \n",
       "2         WarnerMedia    Analyst, Research - HBO Max   \n",
       "3             Harnham                   Data Analyst   \n",
       "4             JetBlue        Engineer Crew Analytics   \n",
       "5             Scouted          Data Insights Analyst   \n",
       "6   The Topps Company                   Data Analyst   \n",
       "7            LeafLink                   Data Analyst   \n",
       "8  Cornershop by Uber                   Data Analyst   \n",
       "9    American Express  Product Analyst, Customer 360   \n",
       "\n",
       "                                    Location     Posted_date # of applicants  \\\n",
       "0                               New York, NY  28 minutes ago    New York, NY   \n",
       "1                               New York, NY     6 hours ago   36 applicants   \n",
       "2                               New York, NY     2 hours ago   23 applicants   \n",
       "3            New York City Metropolitan Area     4 hours ago  157 applicants   \n",
       "4  Long Island City, New York, United States  48 minutes ago     1 applicant   \n",
       "5            New York City Metropolitan Area      1 hour ago   32 applicants   \n",
       "6                               New York, NY    12 hours ago   55 applicants   \n",
       "7                               New York, NY      1 week ago  136 applicants   \n",
       "8            New York City Metropolitan Area      4 days ago  114 applicants   \n",
       "9                               New York, NY    17 hours ago   21 applicants   \n",
       "\n",
       "                                               Level  \\\n",
       "0                            Full-time · Entry level   \n",
       "1                              Full-time · Associate   \n",
       "2                              Full-time · Associate   \n",
       "3                            Full-time · Entry level   \n",
       "4                                 Couldn't get level   \n",
       "5                            Full-time · Entry level   \n",
       "6                            Full-time · Entry level   \n",
       "7                            Full-time · Entry level   \n",
       "8                              Full-time · Associate   \n",
       "9  $63,000/yr - $95,000/yr (est.) · Full-time · A...   \n",
       "\n",
       "                    Company size and Industry  \\\n",
       "0   201-500 employees · Staffing & Recruiting   \n",
       "1  51-200 employees · Marketing & Advertising   \n",
       "2           10,001+ employees · Entertainment   \n",
       "3    51-200 employees · Staffing & Recruiting   \n",
       "4                    Company page not claimed   \n",
       "5           11-50 employees · Human Resources   \n",
       "6          201-500 employees · Consumer Goods   \n",
       "7        51-200 employees · Computer Software   \n",
       "8            1,001-5,000 employees · Internet   \n",
       "9      10,001+ employees · Financial Services   \n",
       "\n",
       "                                         Connections  \\\n",
       "0                                    1 school alumni   \n",
       "1                                     No connections   \n",
       "2               13 company alumni · 13 school alumni   \n",
       "3                                     No connections   \n",
       "4                                     No connections   \n",
       "5                                     No connections   \n",
       "6                                     No connections   \n",
       "7                                     No connections   \n",
       "8                                     No connections   \n",
       "9  1 connection · 1 company alumni · 48 school al...   \n",
       "\n",
       "                                     Job Description  \\\n",
       "0  Our agency client is seeking an Analyst to fun...   \n",
       "1  Business/Data Analyst Affinity Solutions is th...   \n",
       "2  PeopleSoft Requisition Number\\nR000037432\\n\\n ...   \n",
       "3  Posted by\\n    \\n\\n\\n\\n\\n\\n\\n\\n\\n            O...   \n",
       "4  Position Summary\\n\\nThe position is responsibl...   \n",
       "5  The hiring process for this role is managed by...   \n",
       "6  Overview\\n\\nFounded in 1938, The Topps Company...   \n",
       "7  About LeafLink\\n\\nLeafLink is the regulated ca...   \n",
       "8  Posted by\\n    \\n\\n\\n\\n\\n\\n\\n\\n\\n            C...   \n",
       "9  You Lead the Way. We’ve Got Your Back.\\n\\nAt A...   \n",
       "\n",
       "                                                 url  \n",
       "0  https://www.linkedin.com/jobs/search/?currentJ...  \n",
       "1  https://www.linkedin.com/jobs/search/?currentJ...  \n",
       "2  https://www.linkedin.com/jobs/search/?currentJ...  \n",
       "3  https://www.linkedin.com/jobs/search/?currentJ...  \n",
       "4  https://www.linkedin.com/jobs/search/?currentJ...  \n",
       "5  https://www.linkedin.com/jobs/search/?currentJ...  \n",
       "6  https://www.linkedin.com/jobs/search/?currentJ...  \n",
       "7  https://www.linkedin.com/jobs/search/?currentJ...  \n",
       "8  https://www.linkedin.com/jobs/search/?currentJ...  \n",
       "9  https://www.linkedin.com/jobs/search/?currentJ...  "
      ]
     },
     "execution_count": 1094,
     "metadata": {},
     "output_type": "execute_result"
    }
   ],
   "source": [
    "consider_jobs.head(10)"
   ]
  },
  {
   "cell_type": "markdown",
   "metadata": {},
   "source": [
    "#### Print out postings"
   ]
  },
  {
   "cell_type": "code",
   "execution_count": 1093,
   "metadata": {},
   "outputs": [
    {
     "data": {
      "text/markdown": [
       "**Creative Circle**"
      ],
      "text/plain": [
       "<IPython.core.display.Markdown object>"
      ]
     },
     "metadata": {},
     "output_type": "display_data"
    },
    {
     "data": {
      "text/markdown": [
       "**Analyst**"
      ],
      "text/plain": [
       "<IPython.core.display.Markdown object>"
      ]
     },
     "metadata": {},
     "output_type": "display_data"
    },
    {
     "data": {
      "text/markdown": [
       "**New York, NY**"
      ],
      "text/plain": [
       "<IPython.core.display.Markdown object>"
      ]
     },
     "metadata": {},
     "output_type": "display_data"
    },
    {
     "data": {
      "text/markdown": [
       "**28 minutes ago**"
      ],
      "text/plain": [
       "<IPython.core.display.Markdown object>"
      ]
     },
     "metadata": {},
     "output_type": "display_data"
    },
    {
     "data": {
      "text/markdown": [
       "**New York, NY**"
      ],
      "text/plain": [
       "<IPython.core.display.Markdown object>"
      ]
     },
     "metadata": {},
     "output_type": "display_data"
    },
    {
     "data": {
      "text/markdown": [
       "**Full-time · Entry level**"
      ],
      "text/plain": [
       "<IPython.core.display.Markdown object>"
      ]
     },
     "metadata": {},
     "output_type": "display_data"
    },
    {
     "data": {
      "text/markdown": [
       "**201-500 employees · Staffing & Recruiting**"
      ],
      "text/plain": [
       "<IPython.core.display.Markdown object>"
      ]
     },
     "metadata": {},
     "output_type": "display_data"
    },
    {
     "data": {
      "text/markdown": [
       "**1 school alumni**"
      ],
      "text/plain": [
       "<IPython.core.display.Markdown object>"
      ]
     },
     "metadata": {},
     "output_type": "display_data"
    },
    {
     "data": {
      "text/markdown": [
       "**Our agency client is seeking an Analyst to function as an expert in marketing performance and data integrity.\n",
       "\n",
       "This is a full time opportunity, work will be remote for the time being, but you must be able to go into the NYC office when safe to do so.\n",
       "\n",
       "Analyst Responsibilities\n",
       " Establish and execute media measurement campaigns across digital media campaigns (programmatic and direct buys), paid search campaigns, and traditional media campaigns Work closely with Ad Ops team to ensure proper technical measurement is in place (conversion pixels, web analytics coding) Report on creative A/B testing, with an emphasis on confirming statistical significance Monitor and analyze campaign performance through regularly scheduled client dashboards along with ad hoc client requests Support integrated media teams through optimization discovery and data-based planning and insight Develop intelligent and compelling client presentations, ranging from campaign wrap-up reports to POVs on emerging technologies in the analytics and business intelligence space\n",
       "Analyst Requirements\n",
       " 1+ years of experience at an ad agency or digital media partner Determination in finding innovative measurement solutions to observe consumer behavior Strong understanding of online measurement and tracking Ability to collect, analyze, cleanse and combine data from multiple sources into a cohesive set The skill to transform complex and abstract themes into easily digestible presentations for both internal and client use Experience with DoubleClick Campaign Manager, Google Analytics, Microsoft Excel A general understanding of the Ad Tech landscape (DSPs, DMPs, CMPs, and Data Privacy Laws like CCPA, IDFA, or GDPR) Knowledge of Dashboarding tools like Datorama, Tableau, Google Data Studio, Power BI or Looker\n",
       "JUN. 2021\n",
       "\n",
       "Submit resume (and samples if applicable) to: cc187@jobalert.creativecircle.com\n",
       "\n",
       "For Creative Circle to represent candidates for freelance opportunities, applicants must be currently authorized to work in the United States without the need of employer sponsorship for a non-immigrant visa.**"
      ],
      "text/plain": [
       "<IPython.core.display.Markdown object>"
      ]
     },
     "metadata": {},
     "output_type": "display_data"
    },
    {
     "name": "stdout",
     "output_type": "stream",
     "text": [
      "\n",
      "URL: https://www.linkedin.com/jobs/search/?currentJobId=2579841820&f_E=2%2C3&f_TPR=r2592000&geoId=90000070&keywords=data%20analyst&location=New%20York%20City%20Metropolitan%20Area\n"
     ]
    },
    {
     "data": {
      "text/markdown": [
       "********************************************************************************************************************************************************************************************************************************************************************************************************************************************************************************************************************************************************************************************************************"
      ],
      "text/plain": [
       "<IPython.core.display.Markdown object>"
      ]
     },
     "metadata": {},
     "output_type": "display_data"
    },
    {
     "data": {
      "text/markdown": [
       "\n"
      ],
      "text/plain": [
       "<IPython.core.display.Markdown object>"
      ]
     },
     "metadata": {},
     "output_type": "display_data"
    },
    {
     "data": {
      "text/markdown": [
       "**Affinity Solutions**"
      ],
      "text/plain": [
       "<IPython.core.display.Markdown object>"
      ]
     },
     "metadata": {},
     "output_type": "display_data"
    },
    {
     "data": {
      "text/markdown": [
       "**Business Data Analyst**"
      ],
      "text/plain": [
       "<IPython.core.display.Markdown object>"
      ]
     },
     "metadata": {},
     "output_type": "display_data"
    },
    {
     "data": {
      "text/markdown": [
       "**New York, NY**"
      ],
      "text/plain": [
       "<IPython.core.display.Markdown object>"
      ]
     },
     "metadata": {},
     "output_type": "display_data"
    },
    {
     "data": {
      "text/markdown": [
       "**6 hours ago**"
      ],
      "text/plain": [
       "<IPython.core.display.Markdown object>"
      ]
     },
     "metadata": {},
     "output_type": "display_data"
    },
    {
     "data": {
      "text/markdown": [
       "**36 applicants**"
      ],
      "text/plain": [
       "<IPython.core.display.Markdown object>"
      ]
     },
     "metadata": {},
     "output_type": "display_data"
    },
    {
     "data": {
      "text/markdown": [
       "**Full-time · Associate**"
      ],
      "text/plain": [
       "<IPython.core.display.Markdown object>"
      ]
     },
     "metadata": {},
     "output_type": "display_data"
    },
    {
     "data": {
      "text/markdown": [
       "**51-200 employees · Marketing & Advertising**"
      ],
      "text/plain": [
       "<IPython.core.display.Markdown object>"
      ]
     },
     "metadata": {},
     "output_type": "display_data"
    },
    {
     "data": {
      "text/markdown": [
       "**No connections**"
      ],
      "text/plain": [
       "<IPython.core.display.Markdown object>"
      ]
     },
     "metadata": {},
     "output_type": "display_data"
    },
    {
     "data": {
      "text/markdown": [
       "**Business/Data Analyst Affinity Solutions is the first data-led intelligence platform that uses purchase signals as the authoritative source of truth in helping marketers, agencies and media organizations deliver emotionally resonant experiences that enrich people’s lives.\n",
       "Building on our foundation of innovative solutions for Financial Institutions and Retailers that drive acquisition, share of wallet and loyalty, we’re redefining data driven marketing to make it highly personalized.\n",
       "Our unique approach turns consumer data intelligence into actions, and encourages consumers to opt-in. Our solutions are proven to drive shopping behavior and engagement that unlock brand and market share growth for our clients.\n",
       "Affinity Solutions is seeking a smart, curious, technically savvy candidate to join our cutting-edge data science team. We hire the best and brightest and give them the opportunity to work on industry-leading technologies.\n",
       "The Data Science team at AFS build models and machine learning algorithms that power all our ad-tech/mar-tech products at scale, develop methodology and tools to precisely and effectively measure market campaign effects, and research in-house and public data sources for consumer spend behavior insights.\n",
       "In this role, you'll be focusing on the area of the consumer/retailer market insights. However, you'll also have the opportunity to come up with new ideas and solutions that will lead to improvement of our ability to target the right audience, derive insights and provide better measurement methodology for marketing campaigns. \n",
       "Duties and ResponsibilitiesProvide analytical/statistical analysis and execution support to clients and internal stakeholders on insights hypothesis development, test and measurement design, insights discovery and reporting.Research, identify, compile and report anecdotal or systematic public and third party data sources (For example, Census business survey, MRTS, E-commerce data, National payment trends, consumer spend, retail store opening and closing data and retailer M&A etc.) to facilitate market and sales insights fact check and analysis.Develop strategy and provide analytical/statistical support for external data source evaluation, for modeling products and the third-party data QA.Assisting development and improvement of the company’s data balancing and paneling capabilities to support various use cases.Provide support to other analytical/statistical support for business initiatives as needed.Mine large consumer datasets in the cloud environment to support ad hoc business and statistical analysis,Develop and improve automation capabilities to enable customized delivery of the analytical products to clients,Communicate the methodologies and the results to the management, clients and non-technical stakeholders. \n",
       "Basic QualificationsAdvanced degree in Statistics/Computer Science/Behavioral Economics or other fields that requires advanced training in data analytics. Being able to creatively apply statistical/ML concepts and reasoning to provide DS and analytical solutions to business problems. Familiarity with data manipulation concept and techniques such as imputing, cleansing and visualization.Excellent command of one or more ML/statistical tools, preferably Python or R or knowledge of a cloud based ML tool such as Sagemaker.Experience and comfortable working in the Cloud environment and familiar with one of the database technologies such as PostgreSQL, MySQL and at ease with SQL queries, Entrepreneurial, highly self-motivated, collaborative, keen attention to detail, willingness and capable learn quickly, and ability to effectively prioritize and execute tasks in a high-pressure environment.Being flexible to accept different task assignments and able to work on a tight time schedule. Great communication skills (verbal, written and presentation)\n",
       "Preferred QualificationsExperience or exposure to large consumer and/or demographic data sets. Prior experience in retail market space and consumer behavior analysisFamiliar with one of the visualization tools, such as tableau.**"
      ],
      "text/plain": [
       "<IPython.core.display.Markdown object>"
      ]
     },
     "metadata": {},
     "output_type": "display_data"
    },
    {
     "name": "stdout",
     "output_type": "stream",
     "text": [
      "\n",
      "URL: https://www.linkedin.com/jobs/search/?currentJobId=2583169245&f_E=2%2C3&f_TPR=r2592000&geoId=90000070&keywords=data%20analyst&location=New%20York%20City%20Metropolitan%20Area\n"
     ]
    },
    {
     "data": {
      "text/markdown": [
       "********************************************************************************************************************************************************************************************************************************************************************************************************************************************************************************************************************************************************************************************************************"
      ],
      "text/plain": [
       "<IPython.core.display.Markdown object>"
      ]
     },
     "metadata": {},
     "output_type": "display_data"
    },
    {
     "data": {
      "text/markdown": [
       "\n"
      ],
      "text/plain": [
       "<IPython.core.display.Markdown object>"
      ]
     },
     "metadata": {},
     "output_type": "display_data"
    },
    {
     "data": {
      "text/markdown": [
       "**WarnerMedia**"
      ],
      "text/plain": [
       "<IPython.core.display.Markdown object>"
      ]
     },
     "metadata": {},
     "output_type": "display_data"
    },
    {
     "data": {
      "text/markdown": [
       "**Analyst, Research - HBO Max**"
      ],
      "text/plain": [
       "<IPython.core.display.Markdown object>"
      ]
     },
     "metadata": {},
     "output_type": "display_data"
    },
    {
     "data": {
      "text/markdown": [
       "**New York, NY**"
      ],
      "text/plain": [
       "<IPython.core.display.Markdown object>"
      ]
     },
     "metadata": {},
     "output_type": "display_data"
    },
    {
     "data": {
      "text/markdown": [
       "**2 hours ago**"
      ],
      "text/plain": [
       "<IPython.core.display.Markdown object>"
      ]
     },
     "metadata": {},
     "output_type": "display_data"
    },
    {
     "data": {
      "text/markdown": [
       "**23 applicants**"
      ],
      "text/plain": [
       "<IPython.core.display.Markdown object>"
      ]
     },
     "metadata": {},
     "output_type": "display_data"
    },
    {
     "data": {
      "text/markdown": [
       "**Full-time · Associate**"
      ],
      "text/plain": [
       "<IPython.core.display.Markdown object>"
      ]
     },
     "metadata": {},
     "output_type": "display_data"
    },
    {
     "data": {
      "text/markdown": [
       "**10,001+ employees · Entertainment**"
      ],
      "text/plain": [
       "<IPython.core.display.Markdown object>"
      ]
     },
     "metadata": {},
     "output_type": "display_data"
    },
    {
     "data": {
      "text/markdown": [
       "**13 company alumni · 13 school alumni**"
      ],
      "text/plain": [
       "<IPython.core.display.Markdown object>"
      ]
     },
     "metadata": {},
     "output_type": "display_data"
    },
    {
     "data": {
      "text/markdown": [
       "**PeopleSoft Requisition Number\n",
       "R000037432\n",
       "\n",
       " Company Overview \n",
       "\n",
       "WarnerMedia is a leading media and entertainment company that creates and distributes premium and popular content from a diverse array of talented storytellers and journalists to global audiences through its consumer brands including: HBO, HBO Max, Warner Bros., TNT, TBS, truTV, CNN, DC Entertainment, New Line, Cartoon Network, Adult Swim, Turner Classic Movies and others.\n",
       "\n",
       " Business Unit Overview \n",
       "\n",
       "HBO Max is the future of entertainment and storytelling. WarnerMedia’s streaming entertainment offering, HBO Max launched in May 2020 and is the culmination of some of the most innovative new technology and greatest creative talent in the industry. Anchored by the entire HBO service, arguably the greatest brand in television, HBO Max also features fan favorites from the WarnerMedia library including Warner Bros., New Line, DC, CNN, TNT, TBS, truTV, Turner Classic Movies, Cartoon Network, Adult Swim, Crunchyroll, Rooster Teeth, Looney Tunes, and more. HBO Max is home to key third-party library acquisitions such as Friends, South Park and Doctor Who, and more than 50 exclusive Originals in its first year, from the likes of groundbreaking creative talent such as J.J. Abrams, Ridley Scott, Jordan Peele, Steven Soderbergh, Michael Mann, Mindy Kaling, Reese Witherspoon, Anna Kendrick, Greg Berlanti, Melissa McCarthy, Robert Zemeckis and other visionaries. Find out more information at HBOMax.com.\n",
       "\n",
       " The Job \n",
       "\n",
       "Warner Media HBO MAX DTC Research is a forward-thinking team, committed to providing best-in-class research that drives measurable value to the business. We are the voice of the consumer, delivering and implementing insights to shape business strategy and support growth and retention goals.\n",
       "\n",
       "The department is looking for an Analyst, Research, to be a part of the HBO MAX/HBO Consumer Intelligence Research team, focusing on creating a foundational knowledge of the consumer for the business to grow from. The Analyst will serve as an integral member of an active team, collaborating with many departments across the business including Strategy, Content, Marketing and Product. The Analyst should have exposure to qualitative and quantitative research and analysis and feel comfortable translating data to stakeholders.\n",
       "\n",
       " The Daily \n",
       "\n",
       " The Analyst will work with Manager to execute research projects that inform the business  Support development of research plans and strategies that translate business goals into research objectives and studies  Analyze data and create presentations based on findings  Provide ongoing reports on consumer behavior using 3rd party data sources  Analyze data and develop quick turn-around deliverables that are visual, concise, and easily digestible  Deliver research support with ad-hoc analyses for management  Develop strong relationships and maintain regular communication with internal stakeholders and Research colleagues  Help manage vendor relationships \n",
       "\n",
       "\n",
       " The Essentials \n",
       "\n",
       " Bachelor’s Degree required  Minimum of 2 years of market research experience  Exposure to quant/qual research  Open minded, creative and innovative thinker  Strong analytical and problem-solving skills  Strong proficiency in Microsoft PowerPoint, Excel and Word  Ability to synthesize information and produce insightful and accurate analyses  Be adept at data visualization to tell story of insights in a clear and digestible way  Ability to work in a fast-paced high-pressure environment without sacrificing accuracy and attention to detail; strong project management skills are essential  Ability and strong interest to learn new data software tools  Excellent organizational skills  Strong verbal and written communication and presentation skills  Ability to work independently on multiple projects simultaneously  Excited to work for entertainment leader \n",
       "\n",
       "\n",
       " The Perks \n",
       "\n",
       " Exclusive WarnerMedia events and advance screenings Paid time off every year to volunteer for eligible employees Access to well-being tools, resources, and freebies Access to in-house learning and development resources Part of the WarnerMedia family of powerhouse brands\n",
       "\n",
       "Warner Media, LLC and its subsidiaries are equal opportunity employers. Qualified candidates will receive consideration for employment without regard to race, color, religion, national origin, gender, sexual orientation, gender identity or expression, age, mental or physical disability, and genetic information, marital status, citizenship status, military status, protected veteran status or any other category protected by law.**"
      ],
      "text/plain": [
       "<IPython.core.display.Markdown object>"
      ]
     },
     "metadata": {},
     "output_type": "display_data"
    },
    {
     "name": "stdout",
     "output_type": "stream",
     "text": [
      "\n",
      "URL: https://www.linkedin.com/jobs/search/?currentJobId=2579821426&f_E=2%2C3&f_TPR=r2592000&geoId=90000070&keywords=data%20analyst&location=New%20York%20City%20Metropolitan%20Area\n"
     ]
    },
    {
     "data": {
      "text/markdown": [
       "********************************************************************************************************************************************************************************************************************************************************************************************************************************************************************************************************************************************************************************************************************"
      ],
      "text/plain": [
       "<IPython.core.display.Markdown object>"
      ]
     },
     "metadata": {},
     "output_type": "display_data"
    },
    {
     "data": {
      "text/markdown": [
       "\n"
      ],
      "text/plain": [
       "<IPython.core.display.Markdown object>"
      ]
     },
     "metadata": {},
     "output_type": "display_data"
    },
    {
     "data": {
      "text/markdown": [
       "**Harnham**"
      ],
      "text/plain": [
       "<IPython.core.display.Markdown object>"
      ]
     },
     "metadata": {},
     "output_type": "display_data"
    },
    {
     "data": {
      "text/markdown": [
       "**Data Analyst**"
      ],
      "text/plain": [
       "<IPython.core.display.Markdown object>"
      ]
     },
     "metadata": {},
     "output_type": "display_data"
    },
    {
     "data": {
      "text/markdown": [
       "**New York City Metropolitan Area**"
      ],
      "text/plain": [
       "<IPython.core.display.Markdown object>"
      ]
     },
     "metadata": {},
     "output_type": "display_data"
    },
    {
     "data": {
      "text/markdown": [
       "**4 hours ago**"
      ],
      "text/plain": [
       "<IPython.core.display.Markdown object>"
      ]
     },
     "metadata": {},
     "output_type": "display_data"
    },
    {
     "data": {
      "text/markdown": [
       "**157 applicants**"
      ],
      "text/plain": [
       "<IPython.core.display.Markdown object>"
      ]
     },
     "metadata": {},
     "output_type": "display_data"
    },
    {
     "data": {
      "text/markdown": [
       "**Full-time · Entry level**"
      ],
      "text/plain": [
       "<IPython.core.display.Markdown object>"
      ]
     },
     "metadata": {},
     "output_type": "display_data"
    },
    {
     "data": {
      "text/markdown": [
       "**51-200 employees · Staffing & Recruiting**"
      ],
      "text/plain": [
       "<IPython.core.display.Markdown object>"
      ]
     },
     "metadata": {},
     "output_type": "display_data"
    },
    {
     "data": {
      "text/markdown": [
       "**No connections**"
      ],
      "text/plain": [
       "<IPython.core.display.Markdown object>"
      ]
     },
     "metadata": {},
     "output_type": "display_data"
    },
    {
     "data": {
      "text/markdown": [
       "**Posted by\n",
       "    \n",
       "\n",
       "\n",
       "\n",
       "\n",
       "\n",
       "\n",
       "\n",
       "\n",
       "            Olivia Jones\n",
       " \n",
       "\n",
       "            Recruitment Consultant - Advanced Analytics and Insights \n",
       "          \n",
       " \n",
       "\n",
       "\n",
       "\n",
       "\n",
       "\n",
       "\n",
       "\n",
       "\n",
       "\n",
       "\n",
       "          \n",
       "                Send InMail\n",
       "              \n",
       "      \n",
       "\n",
       "\n",
       "\n",
       "\n",
       "\n",
       "\n",
       "Data AnalystMarketing and Advertising New York, NY $75,000-120,000Are you looking to join a high-growth customer-centric marketing agency? This could be the next step in your career!THE ROLE: Data AnalystAs a Data Analyst, you will utilize the companies set of shopper data to provide actionable recommendations for large Consumer Brands in the US. You will analyze shopper behavior and trends within the market. Some of your responsibilities will include:Build reports using Python, SQL, Tableau, and moreConnect the gap between the operations and research teamsAnalyze consumer behavior and deliver actionable recommendations for outreachIdentify which business needs to be prioritized, and how to build solutions YOUR SKILLS AND EXPERTISEExperience working in SQL, Python, and/or RAbility to explain complex business problems to both technical and non-technical audiencesPrevious experience in a customer-centric position SALARY AND BENEFITS:$75,000-120,000Generous benefits package HOW TO APPLY:Please register your interest by sending your resume to Olivia Jones via the Apply link on this pageKEYWORDS: Marketing, Advertising, SQL, Python, R, Tableau, Customer, Brands, Agency, Growth**"
      ],
      "text/plain": [
       "<IPython.core.display.Markdown object>"
      ]
     },
     "metadata": {},
     "output_type": "display_data"
    },
    {
     "name": "stdout",
     "output_type": "stream",
     "text": [
      "\n",
      "URL: https://www.linkedin.com/jobs/search/?currentJobId=2578690590&f_E=2%2C3&f_TPR=r2592000&geoId=90000070&keywords=data%20analyst&location=New%20York%20City%20Metropolitan%20Area\n"
     ]
    },
    {
     "data": {
      "text/markdown": [
       "********************************************************************************************************************************************************************************************************************************************************************************************************************************************************************************************************************************************************************************************************************"
      ],
      "text/plain": [
       "<IPython.core.display.Markdown object>"
      ]
     },
     "metadata": {},
     "output_type": "display_data"
    },
    {
     "data": {
      "text/markdown": [
       "\n"
      ],
      "text/plain": [
       "<IPython.core.display.Markdown object>"
      ]
     },
     "metadata": {},
     "output_type": "display_data"
    },
    {
     "data": {
      "text/markdown": [
       "**JetBlue**"
      ],
      "text/plain": [
       "<IPython.core.display.Markdown object>"
      ]
     },
     "metadata": {},
     "output_type": "display_data"
    },
    {
     "data": {
      "text/markdown": [
       "**Engineer Crew Analytics**"
      ],
      "text/plain": [
       "<IPython.core.display.Markdown object>"
      ]
     },
     "metadata": {},
     "output_type": "display_data"
    },
    {
     "data": {
      "text/markdown": [
       "**Long Island City, New York, United States**"
      ],
      "text/plain": [
       "<IPython.core.display.Markdown object>"
      ]
     },
     "metadata": {},
     "output_type": "display_data"
    },
    {
     "data": {
      "text/markdown": [
       "**48 minutes ago**"
      ],
      "text/plain": [
       "<IPython.core.display.Markdown object>"
      ]
     },
     "metadata": {},
     "output_type": "display_data"
    },
    {
     "data": {
      "text/markdown": [
       "**1 applicant**"
      ],
      "text/plain": [
       "<IPython.core.display.Markdown object>"
      ]
     },
     "metadata": {},
     "output_type": "display_data"
    },
    {
     "data": {
      "text/markdown": [
       "**Couldn't get level**"
      ],
      "text/plain": [
       "<IPython.core.display.Markdown object>"
      ]
     },
     "metadata": {},
     "output_type": "display_data"
    },
    {
     "data": {
      "text/markdown": [
       "**Company page not claimed**"
      ],
      "text/plain": [
       "<IPython.core.display.Markdown object>"
      ]
     },
     "metadata": {},
     "output_type": "display_data"
    },
    {
     "data": {
      "text/markdown": [
       "**No connections**"
      ],
      "text/plain": [
       "<IPython.core.display.Markdown object>"
      ]
     },
     "metadata": {},
     "output_type": "display_data"
    },
    {
     "data": {
      "text/markdown": [
       "**Position Summary\n",
       "\n",
       "The position is responsible for mining big data, both structured and unstructured, from various data sources to extract actionable knowledge using statistical analyses, mathematical modeling as well as other quantitative methods. The objective is to interpret complex operation and crew allocation information to assist management with decision making, policy formulation, driving process changes, and other managerial functions.\n",
       "\n",
       "Essential Responsibilities\n",
       "Produces innovative solutions driven by exploratory data analysis from complex and high-dimensional datasetsAssists in defining data requirements as well as gathers and validates information, applying judgment and statistical tests to ensure data integrityAcquires business knowledge in depth as well as gathers and analyzes complex information about all components in the process, using a variety of data sourcesAssists in crew database developmentEstablishes crew allocation/pairing dashboards using Business Intelligence toolsWorks with Business Customers to develop technological solutions Applies knowledge of statistics, computer programming, mathematical modeling, simulation, and advanced quantitative methods to recognize patterns, identify opportunities, pose business questions, and make valuable discoveries leading to problem solving, decision support, and process changesUses a flexible, analytical approach to design, develop, and evaluate advanced algorithms that lead to optimal value extraction from complex dataPerforms mathematical models validation and testing to ensure adequacy and reformulate models as necessaryOther duties as assigned\n",
       "Minimum Experience And Qualifications\n",
       "Bachelor’s Degree in Mathematics, Operations Research, Statistics, Computer Science, or Engineering Four (4) years of analytical and modeling experienceFour (4) years of programming experience in Python/R/SQL/SASStrong analytical, numerical, and reasoning skillsProgramming skills in HTML, CSS, JavaScript, and web developmentExcellent verbal and written communication skills Proficiency in Microsoft Office Products: Word, Excel, Access, and PowerPoint Ability to work independently and in a team environmentAbility to work under pressure in a fast paced, deadline driven team environmentMust pass a ten (10) year background check and pre-employment drug testMust be legally eligible to work in the country in which the position is located\n",
       "Preferred Experience And Qualifications\n",
       "Graduate degrees in Operations Research, Mathematics, or StatisticsFour (4) years of airline experience Able to effectively influence others at equal and higher levels of the organization Ability to work across departmental linesExperience in Natural Language ProcessingExperience in NoSQL databasesDynamic, energetic, proactive and self-motivated\n",
       "Crewmember Expectations\n",
       "Regular attendance and punctuality Potential need to work flexible hours and be available to respond on short-noticeWell-groomed and able to maintain a professional appearanceWhen working or traveling on JetBlue flights, and if time permits, all capable crewmembers are asked to assist with light cleaning of the aircraftMust be an appropriate organizational fit for the JetBlue culture, that is, exhibit the JetBlue values of Safety, Caring, Integrity, Passion and FunPromote JetBlue’s #1 value of safety as a Safety Ambassador, supporting JetBlue’s Safety Management System (SMS) components, Safety Policy and behavioral standardsIdentify safety and/or security concerns, issues, incidents or hazards that should be reported and report them whenever possible and by any means necessary including JetBlue’s confidential reporting systems (Aviation Safety Action Program (ASAP) or Safety Action Report (SAR))\n",
       "Equipment\n",
       "Computer and other office equipment\n",
       "Work Environment\n",
       "Traditional office environment\n",
       "Physical Effort\n",
       "Generally not required, or up to 10 pounds occasionally, 0 pounds frequently. (Sedentary)**"
      ],
      "text/plain": [
       "<IPython.core.display.Markdown object>"
      ]
     },
     "metadata": {},
     "output_type": "display_data"
    },
    {
     "name": "stdout",
     "output_type": "stream",
     "text": [
      "\n",
      "URL: https://www.linkedin.com/jobs/search/?currentJobId=2589125577&f_E=2%2C3&f_TPR=r2592000&geoId=90000070&keywords=data%20analyst&location=New%20York%20City%20Metropolitan%20Area\n"
     ]
    },
    {
     "data": {
      "text/markdown": [
       "********************************************************************************************************************************************************************************************************************************************************************************************************************************************************************************************************************************************************************************************************************"
      ],
      "text/plain": [
       "<IPython.core.display.Markdown object>"
      ]
     },
     "metadata": {},
     "output_type": "display_data"
    },
    {
     "data": {
      "text/markdown": [
       "\n"
      ],
      "text/plain": [
       "<IPython.core.display.Markdown object>"
      ]
     },
     "metadata": {},
     "output_type": "display_data"
    },
    {
     "data": {
      "text/markdown": [
       "**Scouted**"
      ],
      "text/plain": [
       "<IPython.core.display.Markdown object>"
      ]
     },
     "metadata": {},
     "output_type": "display_data"
    },
    {
     "data": {
      "text/markdown": [
       "**Data Insights Analyst**"
      ],
      "text/plain": [
       "<IPython.core.display.Markdown object>"
      ]
     },
     "metadata": {},
     "output_type": "display_data"
    },
    {
     "data": {
      "text/markdown": [
       "**New York City Metropolitan Area**"
      ],
      "text/plain": [
       "<IPython.core.display.Markdown object>"
      ]
     },
     "metadata": {},
     "output_type": "display_data"
    },
    {
     "data": {
      "text/markdown": [
       "**1 hour ago**"
      ],
      "text/plain": [
       "<IPython.core.display.Markdown object>"
      ]
     },
     "metadata": {},
     "output_type": "display_data"
    },
    {
     "data": {
      "text/markdown": [
       "**32 applicants**"
      ],
      "text/plain": [
       "<IPython.core.display.Markdown object>"
      ]
     },
     "metadata": {},
     "output_type": "display_data"
    },
    {
     "data": {
      "text/markdown": [
       "**Full-time · Entry level**"
      ],
      "text/plain": [
       "<IPython.core.display.Markdown object>"
      ]
     },
     "metadata": {},
     "output_type": "display_data"
    },
    {
     "data": {
      "text/markdown": [
       "**11-50 employees · Human Resources**"
      ],
      "text/plain": [
       "<IPython.core.display.Markdown object>"
      ]
     },
     "metadata": {},
     "output_type": "display_data"
    },
    {
     "data": {
      "text/markdown": [
       "**No connections**"
      ],
      "text/plain": [
       "<IPython.core.display.Markdown object>"
      ]
     },
     "metadata": {},
     "output_type": "display_data"
    },
    {
     "data": {
      "text/markdown": [
       "**The hiring process for this role is managed by Scouted, a job-matching platform that believes people are more than their resumes. In order to be considered, click the ‘Apply’ button. If you have an urgent question, email scouted@scouted.io. Please do NOT use InMail. You will not get a response.----------Role OverviewThis boutique hedge fund is looking for a Data Insights Analyst to join their team. The Data Insights Analyst will be responsible for providing data driven insights in response to a variety of investment questions. This position reports to the Head of Data and Analytics and is part of a growing data team with responsibilities spanning from data sourcing and processing, to analytics.\n",
       "In addition to providing insights on a tactical level, the Data Insights Analyst will help build bespoke machine learning models to enable processing (e.g., sentiment analysis, product classification) and prediction at scale. There will also be close collaboration with an established Field Research team that primarily focuses on qualitative research.\n",
       "The ideal candidate is an entrepreneurial self-starter who is passionate about continuous learning in a rapidly evolving data analytics space. Extreme intellectual curiosity and attention to detail, while being comfortable and flexible in a growing organization, are essential.\n",
       "What will you do?Acquiring high quality data: identifying potential data vendors and/ or spearheading custom in-house alt-data acquisition (e.g., data from survey/ crowdsourcing); backtesting data against groundtruth; understanding methodology and limitations of data collection; developing custom solutions collaboratively with vendors; liaising with internal Legal and Compliance functions; project managing trial and onboarding processes; manual small-scale data gathering (e.g., country-specific demographics data); cleaning data (anomaly checks/ entity mapping) either independently or with external vendorsManaging relationship with investment analysts: proactively identifying where data may add value to investment theses; brainstorming creative approaches for tactical investigations; showcasing new data sources and use cases; advocating a data-driven culture throughout the organizationDelivering bespoke insights: conceptualizing framework for investigation; cleaning and augmenting data with custom features to facilitate analyses; refining analyses based on iterative feedback; developing and maintaining reports and interactive Tableau dashboards; ensuring the data and analysis on Tableau dashboards are current; crystalizing the “so-whats” of analyses; challenging investment analysts in their assumptionsLeading strategic capability development: continuous researching of new tools and processes to increase team’s efficiency and capabilities; collaborating with Field Research team to identify synergies; conducting post-project and regular retrospectives to propose improvements; developing bespoke tools or domain-specific models; coding surveys on platforms such as SurveyGizmo; testing surveys before launch; liaising with vendors to ensure high quality execution (e.g., checking representativeness, response quality)Managing project flow for Data team: maintaining pipeline of data due-diligence projects to assist with prioritization, tracking and reportingData library: maintaining a catalog of current and potential data sources, together with associated meta-data, to facilitate discovery across the firmTracking data and system costs: working with Finance team to keep track of variable (project based) and fixed costs for the Data effortTranslation support: working with external agencies to translate surveys and other data assetsWhat are you like?Ideal Candidates Will Have:Bachelor’s degree with a minimum 3.6 GPA from a Tier 1 universityEntrepreneurial track record, either from founding or being a member of a founding teamHighly numeric and detail oriented, as well as skilled at creative problem solvingExcellent interpersonal and communication skillsTrack record of continuous learningDemonstrated passion for data, although past experience not requiredHighest degree of integrity, professionalism and confidentialityFit with the company's Core PrinciplesMajor plus, but not required:Previous experience with surveys, from questionnaire development to analysis and reportingPrevious experience with big data preparation (e.g., Alteryx) and visualization (e.g., Tableau) toolsProgramming experience, esp. PythonProficiency in Mandarin or Spanish**"
      ],
      "text/plain": [
       "<IPython.core.display.Markdown object>"
      ]
     },
     "metadata": {},
     "output_type": "display_data"
    },
    {
     "name": "stdout",
     "output_type": "stream",
     "text": [
      "\n",
      "URL: https://www.linkedin.com/jobs/search/?currentJobId=2579835832&f_E=2%2C3&f_TPR=r2592000&geoId=90000070&keywords=data%20analyst&location=New%20York%20City%20Metropolitan%20Area\n"
     ]
    },
    {
     "data": {
      "text/markdown": [
       "********************************************************************************************************************************************************************************************************************************************************************************************************************************************************************************************************************************************************************************************************************"
      ],
      "text/plain": [
       "<IPython.core.display.Markdown object>"
      ]
     },
     "metadata": {},
     "output_type": "display_data"
    },
    {
     "data": {
      "text/markdown": [
       "\n"
      ],
      "text/plain": [
       "<IPython.core.display.Markdown object>"
      ]
     },
     "metadata": {},
     "output_type": "display_data"
    }
   ],
   "source": [
    "for i in range(len(consider_jobs[5:11])):\n",
    "    \n",
    "    company_name = consider_jobs.iloc[i, 0]\n",
    "    job_title = consider_jobs.iloc[i, 1]\n",
    "    location = consider_jobs.iloc[i, 2]\n",
    "    posted_date = consider_jobs.iloc[i, 3]\n",
    "    no_applicants = consider_jobs.iloc[i, 4]\n",
    "    level = consider_jobs.iloc[i, 5]\n",
    "    company_size_and_industry = consider_jobs.iloc[i, 6]\n",
    "    connections = consider_jobs.iloc[i, 7]\n",
    "    job_description = consider_jobs.iloc[i, 8]\n",
    "    url = consider_jobs.iloc[i, 9]\n",
    "    \n",
    "    printmd('**'+ company_name +'**')\n",
    "    printmd('**'+ job_title +'**')\n",
    "    printmd('**'+ location +'**')\n",
    "    printmd('**'+ posted_date +'**')\n",
    "    printmd('**'+ no_applicants +'**')\n",
    "    printmd('**'+ level +'**')\n",
    "    printmd('**'+ company_size_and_industry +'**')\n",
    "    printmd('**'+ connections +'**')\n",
    "    printmd('**'+ job_description +'**')\n",
    "    print()\n",
    "    print('URL:', url)\n",
    "    printmd('*'*500)\n",
    "    printmd('\\n')"
   ]
  }
 ],
 "metadata": {
  "kernelspec": {
   "display_name": "Python 3",
   "language": "python",
   "name": "python3"
  },
  "language_info": {
   "codemirror_mode": {
    "name": "ipython",
    "version": 3
   },
   "file_extension": ".py",
   "mimetype": "text/x-python",
   "name": "python",
   "nbconvert_exporter": "python",
   "pygments_lexer": "ipython3",
   "version": "3.8.3"
  }
 },
 "nbformat": 4,
 "nbformat_minor": 4
}
